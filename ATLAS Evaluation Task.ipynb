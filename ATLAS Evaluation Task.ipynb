{
 "cells": [
  {
   "cell_type": "markdown",
   "id": "second-awareness",
   "metadata": {},
   "source": [
    "# Implementing an autoencoder for ATLAS "
   ]
  },
  {
   "cell_type": "markdown",
   "id": "polished-expression",
   "metadata": {},
   "source": [
    "An autoencoder neural network was used to compress the four-momentum of a sample of simulated particles from 4 to 3 variables.\n",
    "\n",
    "This was an evaluation task by the maintainers of the ATLAS project at CERN."
   ]
  },
  {
   "cell_type": "code",
   "execution_count": 34,
   "id": "living-convergence",
   "metadata": {},
   "outputs": [
    {
     "data": {
      "text/plain": [
       "'3.8.5 (default, Jan 27 2021, 15:41:15) \\n[GCC 9.3.0]'"
      ]
     },
     "execution_count": 34,
     "metadata": {},
     "output_type": "execute_result"
    }
   ],
   "source": [
    "import sys\n",
    "sys.version"
   ]
  },
  {
   "cell_type": "markdown",
   "id": "iraqi-basics",
   "metadata": {},
   "source": [
    "## Importing the dataset and 'cleaning' the data"
   ]
  },
  {
   "cell_type": "markdown",
   "id": "conventional-brunswick",
   "metadata": {},
   "source": [
    "Two interesting properties of the given CSV file:\n",
    "1. Empty fields are not specified by separators at the end of the line.\n",
    "2. Two kinds of delimiters used - semicolon (;) and comma (,).\n",
    "\n",
    "Both the issues were ironed out using python's built-in CSV engine. To avoid typecasting every field, a new 'clean' CSV file was created, which was imported using pandas and hence, all the fields were allocated appropriate data types by pandas automatically."
   ]
  },
  {
   "cell_type": "code",
   "execution_count": 35,
   "id": "major-conditioning",
   "metadata": {
    "scrolled": true
   },
   "outputs": [],
   "source": [
    "import csv\n",
    "\n",
    "temp_data = []\n",
    "d = []\n",
    "\n",
    "with open('dataset.csv') as csvfile:\n",
    "    # Here, lines are split by semicolon\n",
    "    areader = csv.reader(csvfile, delimiter = ';')\n",
    "    \n",
    "    # This code splits the fields that contain a comma\n",
    "    for row in areader:\n",
    "        temp = list()\n",
    "        for element in row:\n",
    "            if ',' in element:\n",
    "                a = element.split(',')\n",
    "                temp = temp+a\n",
    "            else:\n",
    "                temp.append(element)\n",
    "        temp_data.append(temp)\n",
    "                \n",
    "    # Find out max no. of columns\n",
    "    max_elems = 0\n",
    "    for row in temp_data:\n",
    "        if max_elems < len(row):\n",
    "            max_elems = len(row)\n",
    "        \n",
    "    csvfile.seek(0)\n",
    "    \n",
    "    # Add separators for empty fields by padding the rows\n",
    "    for i, row in enumerate(temp_data):         \n",
    "        d.append(row + [\"\" for x in range(max_elems-len(row))])\n",
    "\n",
    "# Write to a new CSV file\n",
    "with open ('new_dataset.csv', 'w') as csvfile:\n",
    "    writer = csv.writer(csvfile)\n",
    "    writer.writerows(d)"
   ]
  },
  {
   "cell_type": "code",
   "execution_count": 36,
   "id": "welcome-bracelet",
   "metadata": {
    "scrolled": true
   },
   "outputs": [
    {
     "data": {
      "text/html": [
       "<div>\n",
       "<style scoped>\n",
       "    .dataframe tbody tr th:only-of-type {\n",
       "        vertical-align: middle;\n",
       "    }\n",
       "\n",
       "    .dataframe tbody tr th {\n",
       "        vertical-align: top;\n",
       "    }\n",
       "\n",
       "    .dataframe thead th {\n",
       "        text-align: right;\n",
       "    }\n",
       "</style>\n",
       "<table border=\"1\" class=\"dataframe\">\n",
       "  <thead>\n",
       "    <tr style=\"text-align: right;\">\n",
       "      <th></th>\n",
       "      <th>0</th>\n",
       "      <th>1</th>\n",
       "      <th>2</th>\n",
       "      <th>3</th>\n",
       "      <th>4</th>\n",
       "      <th>5</th>\n",
       "      <th>6</th>\n",
       "      <th>7</th>\n",
       "      <th>8</th>\n",
       "      <th>9</th>\n",
       "      <th>...</th>\n",
       "      <th>56</th>\n",
       "      <th>57</th>\n",
       "      <th>58</th>\n",
       "      <th>59</th>\n",
       "      <th>60</th>\n",
       "      <th>61</th>\n",
       "      <th>62</th>\n",
       "      <th>63</th>\n",
       "      <th>64</th>\n",
       "      <th>65</th>\n",
       "    </tr>\n",
       "  </thead>\n",
       "  <tbody>\n",
       "    <tr>\n",
       "      <th>0</th>\n",
       "      <td>354</td>\n",
       "      <td>monojet_Zp2000.0_DM_50.0</td>\n",
       "      <td>0.000024</td>\n",
       "      <td>832841.0</td>\n",
       "      <td>-1.224310</td>\n",
       "      <td>b</td>\n",
       "      <td>947383.0</td>\n",
       "      <td>824498.0</td>\n",
       "      <td>-0.523103</td>\n",
       "      <td>1.644210</td>\n",
       "      <td>...</td>\n",
       "      <td>NaN</td>\n",
       "      <td>NaN</td>\n",
       "      <td>NaN</td>\n",
       "      <td>NaN</td>\n",
       "      <td>NaN</td>\n",
       "      <td>NaN</td>\n",
       "      <td>NaN</td>\n",
       "      <td>NaN</td>\n",
       "      <td>NaN</td>\n",
       "      <td>NaN</td>\n",
       "    </tr>\n",
       "    <tr>\n",
       "      <th>1</th>\n",
       "      <td>354</td>\n",
       "      <td>monojet_Zp2000.0_DM_50.0</td>\n",
       "      <td>0.000024</td>\n",
       "      <td>732115.0</td>\n",
       "      <td>1.172450</td>\n",
       "      <td>j</td>\n",
       "      <td>1069460.0</td>\n",
       "      <td>751597.0</td>\n",
       "      <td>0.858186</td>\n",
       "      <td>-1.842170</td>\n",
       "      <td>...</td>\n",
       "      <td>NaN</td>\n",
       "      <td>NaN</td>\n",
       "      <td>NaN</td>\n",
       "      <td>NaN</td>\n",
       "      <td>NaN</td>\n",
       "      <td>NaN</td>\n",
       "      <td>NaN</td>\n",
       "      <td>NaN</td>\n",
       "      <td>NaN</td>\n",
       "      <td>NaN</td>\n",
       "    </tr>\n",
       "    <tr>\n",
       "      <th>2</th>\n",
       "      <td>354</td>\n",
       "      <td>monojet_Zp2000.0_DM_50.0</td>\n",
       "      <td>0.000024</td>\n",
       "      <td>1056280.0</td>\n",
       "      <td>-3.067440</td>\n",
       "      <td>j</td>\n",
       "      <td>676000.0</td>\n",
       "      <td>640429.0</td>\n",
       "      <td>0.330450</td>\n",
       "      <td>0.704554</td>\n",
       "      <td>...</td>\n",
       "      <td>NaN</td>\n",
       "      <td>NaN</td>\n",
       "      <td>NaN</td>\n",
       "      <td>NaN</td>\n",
       "      <td>NaN</td>\n",
       "      <td>NaN</td>\n",
       "      <td>NaN</td>\n",
       "      <td>NaN</td>\n",
       "      <td>NaN</td>\n",
       "      <td>NaN</td>\n",
       "    </tr>\n",
       "    <tr>\n",
       "      <th>3</th>\n",
       "      <td>354</td>\n",
       "      <td>monojet_Zp2000.0_DM_50.0</td>\n",
       "      <td>0.000024</td>\n",
       "      <td>631781.0</td>\n",
       "      <td>1.641810</td>\n",
       "      <td>j</td>\n",
       "      <td>936707.0</td>\n",
       "      <td>616229.0</td>\n",
       "      <td>0.973383</td>\n",
       "      <td>-1.565920</td>\n",
       "      <td>...</td>\n",
       "      <td>NaN</td>\n",
       "      <td>NaN</td>\n",
       "      <td>NaN</td>\n",
       "      <td>NaN</td>\n",
       "      <td>NaN</td>\n",
       "      <td>NaN</td>\n",
       "      <td>NaN</td>\n",
       "      <td>NaN</td>\n",
       "      <td>NaN</td>\n",
       "      <td>NaN</td>\n",
       "    </tr>\n",
       "    <tr>\n",
       "      <th>4</th>\n",
       "      <td>354</td>\n",
       "      <td>monojet_Zp2000.0_DM_50.0</td>\n",
       "      <td>0.000024</td>\n",
       "      <td>457316.0</td>\n",
       "      <td>-1.875360</td>\n",
       "      <td>j</td>\n",
       "      <td>640313.0</td>\n",
       "      <td>589524.0</td>\n",
       "      <td>0.390749</td>\n",
       "      <td>1.237340</td>\n",
       "      <td>...</td>\n",
       "      <td>NaN</td>\n",
       "      <td>NaN</td>\n",
       "      <td>NaN</td>\n",
       "      <td>NaN</td>\n",
       "      <td>NaN</td>\n",
       "      <td>NaN</td>\n",
       "      <td>NaN</td>\n",
       "      <td>NaN</td>\n",
       "      <td>NaN</td>\n",
       "      <td>NaN</td>\n",
       "    </tr>\n",
       "    <tr>\n",
       "      <th>...</th>\n",
       "      <td>...</td>\n",
       "      <td>...</td>\n",
       "      <td>...</td>\n",
       "      <td>...</td>\n",
       "      <td>...</td>\n",
       "      <td>...</td>\n",
       "      <td>...</td>\n",
       "      <td>...</td>\n",
       "      <td>...</td>\n",
       "      <td>...</td>\n",
       "      <td>...</td>\n",
       "      <td>...</td>\n",
       "      <td>...</td>\n",
       "      <td>...</td>\n",
       "      <td>...</td>\n",
       "      <td>...</td>\n",
       "      <td>...</td>\n",
       "      <td>...</td>\n",
       "      <td>...</td>\n",
       "      <td>...</td>\n",
       "      <td>...</td>\n",
       "    </tr>\n",
       "    <tr>\n",
       "      <th>6394</th>\n",
       "      <td>354</td>\n",
       "      <td>monojet_Zp2000.0_DM_50.0</td>\n",
       "      <td>0.000024</td>\n",
       "      <td>914355.0</td>\n",
       "      <td>1.529030</td>\n",
       "      <td>j</td>\n",
       "      <td>1119940.0</td>\n",
       "      <td>1012690.0</td>\n",
       "      <td>0.453265</td>\n",
       "      <td>-1.772780</td>\n",
       "      <td>...</td>\n",
       "      <td>NaN</td>\n",
       "      <td>NaN</td>\n",
       "      <td>NaN</td>\n",
       "      <td>NaN</td>\n",
       "      <td>NaN</td>\n",
       "      <td>NaN</td>\n",
       "      <td>NaN</td>\n",
       "      <td>NaN</td>\n",
       "      <td>NaN</td>\n",
       "      <td>NaN</td>\n",
       "    </tr>\n",
       "    <tr>\n",
       "      <th>6395</th>\n",
       "      <td>354</td>\n",
       "      <td>monojet_Zp2000.0_DM_50.0</td>\n",
       "      <td>0.000024</td>\n",
       "      <td>782256.0</td>\n",
       "      <td>-1.207510</td>\n",
       "      <td>j</td>\n",
       "      <td>1915090.0</td>\n",
       "      <td>874869.0</td>\n",
       "      <td>1.418550</td>\n",
       "      <td>1.839270</td>\n",
       "      <td>...</td>\n",
       "      <td>NaN</td>\n",
       "      <td>NaN</td>\n",
       "      <td>NaN</td>\n",
       "      <td>NaN</td>\n",
       "      <td>NaN</td>\n",
       "      <td>NaN</td>\n",
       "      <td>NaN</td>\n",
       "      <td>NaN</td>\n",
       "      <td>NaN</td>\n",
       "      <td>NaN</td>\n",
       "    </tr>\n",
       "    <tr>\n",
       "      <th>6396</th>\n",
       "      <td>354</td>\n",
       "      <td>monojet_Zp2000.0_DM_50.0</td>\n",
       "      <td>0.000024</td>\n",
       "      <td>645619.0</td>\n",
       "      <td>-2.483990</td>\n",
       "      <td>j</td>\n",
       "      <td>787964.0</td>\n",
       "      <td>263158.0</td>\n",
       "      <td>1.759810</td>\n",
       "      <td>0.456786</td>\n",
       "      <td>...</td>\n",
       "      <td>NaN</td>\n",
       "      <td>NaN</td>\n",
       "      <td>NaN</td>\n",
       "      <td>NaN</td>\n",
       "      <td>NaN</td>\n",
       "      <td>NaN</td>\n",
       "      <td>NaN</td>\n",
       "      <td>NaN</td>\n",
       "      <td>NaN</td>\n",
       "      <td>NaN</td>\n",
       "    </tr>\n",
       "    <tr>\n",
       "      <th>6397</th>\n",
       "      <td>354</td>\n",
       "      <td>monojet_Zp2000.0_DM_50.0</td>\n",
       "      <td>0.000024</td>\n",
       "      <td>632390.0</td>\n",
       "      <td>-0.975687</td>\n",
       "      <td>j</td>\n",
       "      <td>731849.0</td>\n",
       "      <td>722541.0</td>\n",
       "      <td>-0.134499</td>\n",
       "      <td>2.563930</td>\n",
       "      <td>...</td>\n",
       "      <td>NaN</td>\n",
       "      <td>NaN</td>\n",
       "      <td>NaN</td>\n",
       "      <td>NaN</td>\n",
       "      <td>NaN</td>\n",
       "      <td>NaN</td>\n",
       "      <td>NaN</td>\n",
       "      <td>NaN</td>\n",
       "      <td>NaN</td>\n",
       "      <td>NaN</td>\n",
       "    </tr>\n",
       "    <tr>\n",
       "      <th>6398</th>\n",
       "      <td>354</td>\n",
       "      <td>monojet_Zp2000.0_DM_50.0</td>\n",
       "      <td>0.000024</td>\n",
       "      <td>820060.0</td>\n",
       "      <td>-0.043785</td>\n",
       "      <td>j</td>\n",
       "      <td>893689.0</td>\n",
       "      <td>742040.0</td>\n",
       "      <td>-0.618057</td>\n",
       "      <td>-3.104660</td>\n",
       "      <td>...</td>\n",
       "      <td>NaN</td>\n",
       "      <td>NaN</td>\n",
       "      <td>NaN</td>\n",
       "      <td>NaN</td>\n",
       "      <td>NaN</td>\n",
       "      <td>NaN</td>\n",
       "      <td>NaN</td>\n",
       "      <td>NaN</td>\n",
       "      <td>NaN</td>\n",
       "      <td>NaN</td>\n",
       "    </tr>\n",
       "  </tbody>\n",
       "</table>\n",
       "<p>6399 rows × 66 columns</p>\n",
       "</div>"
      ],
      "text/plain": [
       "       0                         1         2          3         4  5   \\\n",
       "0     354  monojet_Zp2000.0_DM_50.0  0.000024   832841.0 -1.224310  b   \n",
       "1     354  monojet_Zp2000.0_DM_50.0  0.000024   732115.0  1.172450  j   \n",
       "2     354  monojet_Zp2000.0_DM_50.0  0.000024  1056280.0 -3.067440  j   \n",
       "3     354  monojet_Zp2000.0_DM_50.0  0.000024   631781.0  1.641810  j   \n",
       "4     354  monojet_Zp2000.0_DM_50.0  0.000024   457316.0 -1.875360  j   \n",
       "...   ...                       ...       ...        ...       ... ..   \n",
       "6394  354  monojet_Zp2000.0_DM_50.0  0.000024   914355.0  1.529030  j   \n",
       "6395  354  monojet_Zp2000.0_DM_50.0  0.000024   782256.0 -1.207510  j   \n",
       "6396  354  monojet_Zp2000.0_DM_50.0  0.000024   645619.0 -2.483990  j   \n",
       "6397  354  monojet_Zp2000.0_DM_50.0  0.000024   632390.0 -0.975687  j   \n",
       "6398  354  monojet_Zp2000.0_DM_50.0  0.000024   820060.0 -0.043785  j   \n",
       "\n",
       "             6          7         8         9   ...  56  57  58  59   60  61  \\\n",
       "0      947383.0   824498.0 -0.523103  1.644210  ... NaN NaN NaN NaN  NaN NaN   \n",
       "1     1069460.0   751597.0  0.858186 -1.842170  ... NaN NaN NaN NaN  NaN NaN   \n",
       "2      676000.0   640429.0  0.330450  0.704554  ... NaN NaN NaN NaN  NaN NaN   \n",
       "3      936707.0   616229.0  0.973383 -1.565920  ... NaN NaN NaN NaN  NaN NaN   \n",
       "4      640313.0   589524.0  0.390749  1.237340  ... NaN NaN NaN NaN  NaN NaN   \n",
       "...         ...        ...       ...       ...  ...  ..  ..  ..  ..  ...  ..   \n",
       "6394  1119940.0  1012690.0  0.453265 -1.772780  ... NaN NaN NaN NaN  NaN NaN   \n",
       "6395  1915090.0   874869.0  1.418550  1.839270  ... NaN NaN NaN NaN  NaN NaN   \n",
       "6396   787964.0   263158.0  1.759810  0.456786  ... NaN NaN NaN NaN  NaN NaN   \n",
       "6397   731849.0   722541.0 -0.134499  2.563930  ... NaN NaN NaN NaN  NaN NaN   \n",
       "6398   893689.0   742040.0 -0.618057 -3.104660  ... NaN NaN NaN NaN  NaN NaN   \n",
       "\n",
       "      62  63  64  65  \n",
       "0    NaN NaN NaN NaN  \n",
       "1    NaN NaN NaN NaN  \n",
       "2    NaN NaN NaN NaN  \n",
       "3    NaN NaN NaN NaN  \n",
       "4    NaN NaN NaN NaN  \n",
       "...   ..  ..  ..  ..  \n",
       "6394 NaN NaN NaN NaN  \n",
       "6395 NaN NaN NaN NaN  \n",
       "6396 NaN NaN NaN NaN  \n",
       "6397 NaN NaN NaN NaN  \n",
       "6398 NaN NaN NaN NaN  \n",
       "\n",
       "[6399 rows x 66 columns]"
      ]
     },
     "execution_count": 36,
     "metadata": {},
     "output_type": "execute_result"
    }
   ],
   "source": [
    "import pandas as pd\n",
    "temp_df = pd.read_csv('new_dataset.csv', header=None)\n",
    "temp_df"
   ]
  },
  {
   "cell_type": "markdown",
   "id": "certain-witness",
   "metadata": {},
   "source": [
    "## Obtaining relevant data from the dataset"
   ]
  },
  {
   "cell_type": "markdown",
   "id": "fundamental-richmond",
   "metadata": {},
   "source": [
    "From the dataset, we can disregard the first five columns, which correspond to the event details. Beginning from the sixth column, we see a set of 5 fields that correspond to the type of object and its four momentum. There are in total 65 fields, which implies that an event may have resulted in up to 12 objects to be detected.\n",
    "\n",
    "Our aim is to work on the four momentum of only jet object (id='j'). To do that we create an empty dataframe of four columns (E, pt, eta, phi), which will be used to note down the values of the four momentum. We begin by looking for jet objects in every object detected for all events. For every jet object that is found, we add the values of its four momentum to the dataframe we created."
   ]
  },
  {
   "cell_type": "code",
   "execution_count": 37,
   "id": "conscious-today",
   "metadata": {},
   "outputs": [],
   "source": [
    "df = pd.DataFrame(columns = ['E','pt','eta','phi'])\n",
    "count = 0\n",
    "for l in range(len(temp_df)):\n",
    "    for i in range(5,61,5):\n",
    "        if temp_df.iloc[l,i] == 'j':\n",
    "            df.loc[count] = [temp_df.iloc[l,i+1],temp_df.iloc[l,i+2],temp_df.iloc[l,i+3],temp_df.iloc[l,i+4]]\n",
    "            count += 1"
   ]
  },
  {
   "cell_type": "code",
   "execution_count": 38,
   "id": "residential-condition",
   "metadata": {},
   "outputs": [
    {
     "name": "stdout",
     "output_type": "stream",
     "text": [
      "Column name: E\n",
      "Max: 4413680.0\n",
      "Min: 24375.8\n",
      "\n",
      "\n",
      "Column name: pt\n",
      "Max: 2090860.0\n",
      "Min: 22086.5\n",
      "\n",
      "\n",
      "Column name: eta\n",
      "Max: 4.75308\n",
      "Min: -4.87011\n",
      "\n",
      "\n",
      "Column name: phi\n",
      "Max: 3.14121\n",
      "Min: -3.14156\n",
      "\n",
      "\n"
     ]
    }
   ],
   "source": [
    "for i in df:\n",
    "    print(\"Column name: \"+str(i))\n",
    "    print(\"Max: \"+str(max(df[i])))\n",
    "    print(\"Min: \"+str(min(df[i])))\n",
    "    print(\"\\n\")"
   ]
  },
  {
   "cell_type": "markdown",
   "id": "prospective-space",
   "metadata": {},
   "source": [
    "We can see that the columns 'E' and 'pt' have data ranging from 10^5 to 10^7 while columns 'eta' and 'phi' have data ranging from 10^0 to 10^1. To make sure that our model trains well, we need to normalise the data and bring them all to the same range.\n",
    "\n",
    "We will apply min-max normalization which will rescale the variables to a hard and fast range of [0,1] by subtracting the minimum value of the column then dividing by the range."
   ]
  },
  {
   "cell_type": "code",
   "execution_count": 39,
   "id": "mounted-whale",
   "metadata": {},
   "outputs": [],
   "source": [
    "for column in df.columns: \n",
    "    df[column] = (df[column] - df[column].mean()) / df[column].std()"
   ]
  },
  {
   "cell_type": "code",
   "execution_count": 40,
   "id": "blocked-color",
   "metadata": {},
   "outputs": [
    {
     "data": {
      "text/html": [
       "<div>\n",
       "<style scoped>\n",
       "    .dataframe tbody tr th:only-of-type {\n",
       "        vertical-align: middle;\n",
       "    }\n",
       "\n",
       "    .dataframe tbody tr th {\n",
       "        vertical-align: top;\n",
       "    }\n",
       "\n",
       "    .dataframe thead th {\n",
       "        text-align: right;\n",
       "    }\n",
       "</style>\n",
       "<table border=\"1\" class=\"dataframe\">\n",
       "  <thead>\n",
       "    <tr style=\"text-align: right;\">\n",
       "      <th></th>\n",
       "      <th>E</th>\n",
       "      <th>pt</th>\n",
       "      <th>eta</th>\n",
       "      <th>phi</th>\n",
       "    </tr>\n",
       "  </thead>\n",
       "  <tbody>\n",
       "    <tr>\n",
       "      <th>0</th>\n",
       "      <td>-0.414264</td>\n",
       "      <td>0.008666</td>\n",
       "      <td>0.210460</td>\n",
       "      <td>1.249807</td>\n",
       "    </tr>\n",
       "    <tr>\n",
       "      <th>1</th>\n",
       "      <td>0.198858</td>\n",
       "      <td>-0.498838</td>\n",
       "      <td>-1.500077</td>\n",
       "      <td>-1.018836</td>\n",
       "    </tr>\n",
       "    <tr>\n",
       "      <th>2</th>\n",
       "      <td>-0.122676</td>\n",
       "      <td>-0.574670</td>\n",
       "      <td>1.416344</td>\n",
       "      <td>-1.073832</td>\n",
       "    </tr>\n",
       "    <tr>\n",
       "      <th>3</th>\n",
       "      <td>-0.928498</td>\n",
       "      <td>-0.773939</td>\n",
       "      <td>0.304409</td>\n",
       "      <td>-0.636392</td>\n",
       "    </tr>\n",
       "    <tr>\n",
       "      <th>4</th>\n",
       "      <td>-0.492361</td>\n",
       "      <td>-0.805824</td>\n",
       "      <td>-1.877724</td>\n",
       "      <td>-1.241224</td>\n",
       "    </tr>\n",
       "    <tr>\n",
       "      <th>...</th>\n",
       "      <td>...</td>\n",
       "      <td>...</td>\n",
       "      <td>...</td>\n",
       "      <td>...</td>\n",
       "    </tr>\n",
       "    <tr>\n",
       "      <th>22656</th>\n",
       "      <td>0.695599</td>\n",
       "      <td>1.807731</td>\n",
       "      <td>-0.097260</td>\n",
       "      <td>1.423142</td>\n",
       "    </tr>\n",
       "    <tr>\n",
       "      <th>22657</th>\n",
       "      <td>-0.390558</td>\n",
       "      <td>0.066782</td>\n",
       "      <td>0.094168</td>\n",
       "      <td>0.326363</td>\n",
       "    </tr>\n",
       "    <tr>\n",
       "      <th>22658</th>\n",
       "      <td>-0.661470</td>\n",
       "      <td>-0.741756</td>\n",
       "      <td>1.266940</td>\n",
       "      <td>-0.124285</td>\n",
       "    </tr>\n",
       "    <tr>\n",
       "      <th>22659</th>\n",
       "      <td>1.075244</td>\n",
       "      <td>1.880987</td>\n",
       "      <td>-0.418323</td>\n",
       "      <td>-1.708151</td>\n",
       "    </tr>\n",
       "    <tr>\n",
       "      <th>22660</th>\n",
       "      <td>-0.768941</td>\n",
       "      <td>-0.504831</td>\n",
       "      <td>-0.040203</td>\n",
       "      <td>1.352508</td>\n",
       "    </tr>\n",
       "  </tbody>\n",
       "</table>\n",
       "<p>22661 rows × 4 columns</p>\n",
       "</div>"
      ],
      "text/plain": [
       "              E        pt       eta       phi\n",
       "0     -0.414264  0.008666  0.210460  1.249807\n",
       "1      0.198858 -0.498838 -1.500077 -1.018836\n",
       "2     -0.122676 -0.574670  1.416344 -1.073832\n",
       "3     -0.928498 -0.773939  0.304409 -0.636392\n",
       "4     -0.492361 -0.805824 -1.877724 -1.241224\n",
       "...         ...       ...       ...       ...\n",
       "22656  0.695599  1.807731 -0.097260  1.423142\n",
       "22657 -0.390558  0.066782  0.094168  0.326363\n",
       "22658 -0.661470 -0.741756  1.266940 -0.124285\n",
       "22659  1.075244  1.880987 -0.418323 -1.708151\n",
       "22660 -0.768941 -0.504831 -0.040203  1.352508\n",
       "\n",
       "[22661 rows x 4 columns]"
      ]
     },
     "execution_count": 40,
     "metadata": {},
     "output_type": "execute_result"
    }
   ],
   "source": [
    "df"
   ]
  },
  {
   "cell_type": "markdown",
   "id": "proprietary-liverpool",
   "metadata": {},
   "source": [
    "## Describing data for training and validating the model"
   ]
  },
  {
   "cell_type": "markdown",
   "id": "welcome-martial",
   "metadata": {},
   "source": [
    "We will now be splitting the data into a 75:25 ratio for training and validation. The data used for training has been plotted then."
   ]
  },
  {
   "cell_type": "code",
   "execution_count": 41,
   "id": "portable-society",
   "metadata": {},
   "outputs": [],
   "source": [
    "# Splitting data into training and validation of ratio 75:25 randomly.\n",
    "from sklearn.model_selection import train_test_split\n",
    "\n",
    "train, test = train_test_split(df, test_size=0.25)\n",
    "\n",
    "# Shuffling the data\n",
    "train = train.sample(frac=1).reset_index(drop=True)\n",
    "test = test.sample(frac=1).reset_index(drop=True)"
   ]
  },
  {
   "cell_type": "code",
   "execution_count": 44,
   "id": "developmental-buffer",
   "metadata": {
    "scrolled": true
   },
   "outputs": [
    {
     "name": "stdout",
     "output_type": "stream",
     "text": [
      "Training sample:\n",
      "              E        pt       eta       phi\n",
      "12243 -0.444394 -0.263410  0.585739  0.241437\n",
      "4934   1.574152 -0.354929 -1.805625 -1.585951\n",
      "16567  0.089129  0.443113  0.506692  0.753006\n",
      "12240  0.888046  2.095673 -0.133193 -1.680117\n",
      "22456 -0.873313 -0.783648  0.834190 -1.473390\n",
      "\n",
      "\n",
      "Testing sample:\n",
      "              E        pt       eta       phi\n",
      "9266   0.890739 -0.775598  2.543471 -1.255686\n",
      "1993   2.025273  3.768279  0.179582 -0.803927\n",
      "6637  -0.268918 -0.713797  1.663537 -1.214328\n",
      "10707 -0.852849 -0.805742  1.074305  1.194794\n",
      "20268  0.395010  1.082159  0.332009 -1.297690\n",
      "\n",
      "\n",
      "The number of entries in the training data: 16995\n",
      "The number of entries in the validation data: 5666\n"
     ]
    }
   ],
   "source": [
    "print('Training sample:')\n",
    "print(train.head())\n",
    "\n",
    "print('\\n')\n",
    "\n",
    "print('Testing sample:')\n",
    "print(test.head())\n",
    "\n",
    "print('\\n')\n",
    "\n",
    "print('The number of entries in the training data:', len(train))\n",
    "print('The number of entries in the validation data:', len(test))"
   ]
  },
  {
   "cell_type": "code",
   "execution_count": 70,
   "id": "laughing-general",
   "metadata": {},
   "outputs": [
    {
     "data": {
      "image/png": "[encoded data removed]",
      "text/plain": [
       "<Figure size 432x288 with 1 Axes>"
      ]
     },
     "metadata": {
      "needs_background": "light"
     },
     "output_type": "display_data"
    },
    {
     "data": {
      "image/png": "[encoded data removed]",
      "text/plain": [
       "<Figure size 432x288 with 1 Axes>"
      ]
     },
     "metadata": {
      "needs_background": "light"
     },
     "output_type": "display_data"
    },
    {
     "data": {
      "image/png": "[encoded data removed]",
      "text/plain": [
       "<Figure size 432x288 with 1 Axes>"
      ]
     },
     "metadata": {
      "needs_background": "light"
     },
     "output_type": "display_data"
    },
    {
     "data": {
      "image/png": "[encoded data removed]",
      "text/plain": [
       "<Figure size 432x288 with 1 Axes>"
      ]
     },
     "metadata": {
      "needs_background": "light"
     },
     "output_type": "display_data"
    }
   ],
   "source": [
    "# Plotting the training data\n",
    "import matplotlib.pyplot as plt\n",
    "import statistics\n",
    "\n",
    "branches=[\"E\",\"pt\",\"eta\",\"phi\"]\n",
    "\n",
    "n_bins = 120\n",
    "\n",
    "# for col in branches:\n",
    "#     print(col+\": \",end='')\n",
    "#     print(statistics.quantiles(df[col], n=4, method='inclusive'))\n",
    "\n",
    "for col in branches:\n",
    "    n_hist_data, bin_edges, _ = plt.hist(train[col], label='Input', alpha=1, bins=n_bins)\n",
    "    plt.xlabel(xlabel=col)\n",
    "    plt.ylabel('No. of jets')\n",
    "    plt.savefig(os.path.join('trainData'+col+'.png'))\n",
    "    plt.show()"
   ]
  },
  {
   "cell_type": "markdown",
   "id": "beneficial-brake",
   "metadata": {},
   "source": [
    "## Preparing data for use with fastai"
   ]
  },
  {
   "cell_type": "markdown",
   "id": "attached-macintosh",
   "metadata": {},
   "source": [
    "Tensor objects are created for training and validation. pyTorch's DataLoader is used to define batch sizes for both these objects. These objects are then loaded into a fastai object, which will now be used on our model."
   ]
  },
  {
   "cell_type": "code",
   "execution_count": 46,
   "id": "ready-static",
   "metadata": {},
   "outputs": [],
   "source": [
    "import torch\n",
    "import torch.nn as nn\n",
    "import torch.optim as optim\n",
    "import torch.utils.data\n",
    "from torch.autograd import Variable\n",
    "\n",
    "from torch.utils.data import TensorDataset\n",
    "from torch.utils.data import DataLoader\n",
    "\n",
    "\n",
    "train_x = train\n",
    "test_x = test\n",
    "\n",
    "# Since output = input, y = x\n",
    "train_y = train_x \n",
    "test_y = test_x\n",
    "\n",
    "# Constructs a tensor object of the data and wraps them in a TensorDataset object.\n",
    "train_ds = TensorDataset(torch.tensor(train_x.values, dtype=torch.float), torch.tensor(train_y.values, dtype=torch.float))\n",
    "valid_ds = TensorDataset(torch.tensor(test_x.values, dtype=torch.float), torch.tensor(test_y.values, dtype=torch.float))"
   ]
  },
  {
   "cell_type": "code",
   "execution_count": 47,
   "id": "becoming-solution",
   "metadata": {},
   "outputs": [],
   "source": [
    "from fastai import learner\n",
    "from fastai.data import core\n",
    "\n",
    "bs = 256\n",
    "\n",
    "# Converts the TensorDataset into a DataLoader object and combines into one DataLoaders object (a basic wrapper\n",
    "# around several DataLoader objects). \n",
    "train_dl = DataLoader(train_ds, batch_size=bs, shuffle=True)\n",
    "valid_dl = DataLoader(valid_ds, batch_size=bs * 2)\n",
    "dls = core.DataLoaders(train_dl, valid_dl)"
   ]
  },
  {
   "cell_type": "markdown",
   "id": "smoking-pasta",
   "metadata": {},
   "source": [
    "## Describing the model of the neural network"
   ]
  },
  {
   "cell_type": "markdown",
   "id": "driven-dayton",
   "metadata": {},
   "source": [
    "The neural network described in the example notebook (LeakyReLU with 200-20-3-20-200 architecture and a tanh activation function) will be used here as well."
   ]
  },
  {
   "cell_type": "code",
   "execution_count": 48,
   "id": "absent-importance",
   "metadata": {},
   "outputs": [
    {
     "data": {
      "text/plain": [
       "AE_3D_200_LeakyReLU(\n",
       "  (en1): Linear(in_features=4, out_features=200, bias=True)\n",
       "  (en2): Linear(in_features=200, out_features=200, bias=True)\n",
       "  (en3): Linear(in_features=200, out_features=20, bias=True)\n",
       "  (en4): Linear(in_features=20, out_features=3, bias=True)\n",
       "  (de1): Linear(in_features=3, out_features=20, bias=True)\n",
       "  (de2): Linear(in_features=20, out_features=200, bias=True)\n",
       "  (de3): Linear(in_features=200, out_features=200, bias=True)\n",
       "  (de4): Linear(in_features=200, out_features=4, bias=True)\n",
       "  (tanh): Tanh()\n",
       ")"
      ]
     },
     "execution_count": 48,
     "metadata": {},
     "output_type": "execute_result"
    }
   ],
   "source": [
    "class AE_3D_200_LeakyReLU(nn.Module):\n",
    "    def __init__(self, n_features=4):\n",
    "        super(AE_3D_200_LeakyReLU, self).__init__()\n",
    "        self.en1 = nn.Linear(n_features, 200)\n",
    "        self.en2 = nn.Linear(200, 200)\n",
    "        self.en3 = nn.Linear(200, 20)\n",
    "        self.en4 = nn.Linear(20, 3)\n",
    "        self.de1 = nn.Linear(3, 20)\n",
    "        self.de2 = nn.Linear(20, 200)\n",
    "        self.de3 = nn.Linear(200, 200)\n",
    "        self.de4 = nn.Linear(200, n_features)\n",
    "        self.tanh = nn.Tanh()\n",
    "\n",
    "    def encode(self, x):\n",
    "        return self.en4(self.tanh(self.en3(self.tanh(self.en2(self.tanh(self.en1(x)))))))\n",
    "\n",
    "    def decode(self, x):\n",
    "        return self.de4(self.tanh(self.de3(self.tanh(self.de2(self.tanh(self.de1(self.tanh(x))))))))\n",
    "\n",
    "    def forward(self, x):\n",
    "        z = self.encode(x)\n",
    "        return self.decode(z)\n",
    "\n",
    "    def describe(self):\n",
    "        return 'in-200-200-20-3-20-200-200-out'\n",
    "\n",
    "model = AE_3D_200_LeakyReLU()\n",
    "model.to('cpu')"
   ]
  },
  {
   "cell_type": "markdown",
   "id": "judicial-exception",
   "metadata": {},
   "source": [
    "## Defining performance metrics"
   ]
  },
  {
   "cell_type": "markdown",
   "id": "hidden-scope",
   "metadata": {},
   "source": [
    "To compute the loss, we use mean-squared-error (MSE) as a metric."
   ]
  },
  {
   "cell_type": "code",
   "execution_count": 49,
   "id": "above-facility",
   "metadata": {},
   "outputs": [],
   "source": [
    "from fastai.metrics import mse\n",
    "\n",
    "loss_func = nn.MSELoss()\n",
    "\n",
    "wd = 1e-4\n",
    "\n",
    "recorder = learner.Recorder()\n",
    "learn = learner.Learner(dls, model=model, wd=wd, loss_func=loss_func, cbs=recorder)"
   ]
  },
  {
   "cell_type": "markdown",
   "id": "sealed-victory",
   "metadata": {},
   "source": [
    "The lr_find module of fastai is used to find optimum values of the learning rate."
   ]
  },
  {
   "cell_type": "code",
   "execution_count": 50,
   "id": "portable-villa",
   "metadata": {
    "scrolled": true
   },
   "outputs": [
    {
     "name": "stdout",
     "output_type": "stream",
     "text": [
      "Learning rate with the minimum loss: 0.0020417379215359687\n",
      "Learning rate with the steepest gradient: 0.001380384317599237\n"
     ]
    },
    {
     "data": {
      "image/png": "[encoded data removed]",
      "text/plain": [
       "<Figure size 432x288 with 1 Axes>"
      ]
     },
     "metadata": {
      "needs_background": "light"
     },
     "output_type": "display_data"
    }
   ],
   "source": [
    "from fastai.callback import schedule\n",
    "\n",
    "lr_min, lr_steep = learn.lr_find(end_lr = 100)\n",
    "\n",
    "print('Learning rate with the minimum loss:', lr_min)\n",
    "print('Learning rate with the steepest gradient:', lr_steep)"
   ]
  },
  {
   "cell_type": "markdown",
   "id": "demanding-vampire",
   "metadata": {},
   "source": [
    "## Training and testing the model"
   ]
  },
  {
   "cell_type": "markdown",
   "id": "alien-intervention",
   "metadata": {},
   "source": [
    "The epoch has been set to 100 and the learning rate has been set to lr_min as obtained from fastai's lr_find function. "
   ]
  },
  {
   "cell_type": "code",
   "execution_count": 51,
   "id": "suspected-avenue",
   "metadata": {
    "scrolled": true
   },
   "outputs": [
    {
     "name": "stdout",
     "output_type": "stream",
     "text": [
      "[0, 0.7704475522041321, 0.5426218509674072, '00:00']\n",
      "[0, 0.7704475522041321, 0.5426218509674072, '00:00']\n",
      "[1, 0.49248427152633667, 0.35475045442581177, '00:00']\n",
      "[1, 0.49248427152633667, 0.35475045442581177, '00:00']\n",
      "[2, 0.29000991582870483, 0.14933742582798004, '00:00']\n",
      "[2, 0.29000991582870483, 0.14933742582798004, '00:00']\n",
      "[3, 0.16608379781246185, 0.10328087955713272, '00:00']\n",
      "[3, 0.16608379781246185, 0.10328087955713272, '00:00']\n",
      "[4, 0.10864641517400742, 0.07814297080039978, '00:00']\n",
      "[4, 0.10864641517400742, 0.07814297080039978, '00:00']\n",
      "[5, 0.08168873190879822, 0.06883684545755386, '00:00']\n",
      "[5, 0.08168873190879822, 0.06883684545755386, '00:00']\n",
      "[6, 0.06461378186941147, 0.0470520555973053, '00:00']\n",
      "[6, 0.06461378186941147, 0.0470520555973053, '00:00']\n",
      "[7, 0.039906375110149384, 0.02624816633760929, '00:00']\n",
      "[7, 0.039906375110149384, 0.02624816633760929, '00:00']\n",
      "[8, 0.02591993845999241, 0.018756330013275146, '00:00']\n",
      "[8, 0.02591993845999241, 0.018756330013275146, '00:00']\n",
      "[9, 0.016975026577711105, 0.011132488027215004, '00:00']\n",
      "[9, 0.016975026577711105, 0.011132488027215004, '00:00']\n",
      "[10, 0.010873411782085896, 0.0070839920081198215, '00:00']\n",
      "[10, 0.010873411782085896, 0.0070839920081198215, '00:00']\n",
      "[11, 0.007289278786629438, 0.005011311732232571, '00:00']\n",
      "[11, 0.007289278786629438, 0.005011311732232571, '00:00']\n",
      "[12, 0.005080693401396275, 0.003442761255428195, '00:00']\n",
      "[12, 0.005080693401396275, 0.003442761255428195, '00:00']\n",
      "[13, 0.003685623174533248, 0.002864927751943469, '00:00']\n",
      "[13, 0.003685623174533248, 0.002864927751943469, '00:00']\n",
      "[14, 0.003384414128959179, 0.004268965218216181, '00:00']\n",
      "[14, 0.003384414128959179, 0.004268965218216181, '00:00']\n",
      "[15, 0.0038559786044061184, 0.002626996487379074, '00:00']\n",
      "[15, 0.0038559786044061184, 0.002626996487379074, '00:00']\n",
      "[16, 0.0037735954392701387, 0.0034288978204131126, '00:00']\n",
      "[16, 0.0037735954392701387, 0.0034288978204131126, '00:00']\n",
      "[17, 0.004271036945283413, 0.0030464562587440014, '00:00']\n",
      "[17, 0.004271036945283413, 0.0030464562587440014, '00:00']\n",
      "[18, 0.003145240480080247, 0.002584767760708928, '00:00']\n",
      "[18, 0.003145240480080247, 0.002584767760708928, '00:00']\n",
      "[19, 0.003972114995121956, 0.002774651860818267, '00:00']\n",
      "[19, 0.003972114995121956, 0.002774651860818267, '00:00']\n",
      "[20, 0.00343316444195807, 0.002886974485591054, '00:00']\n",
      "[20, 0.00343316444195807, 0.002886974485591054, '00:00']\n",
      "[21, 0.0036118223797529936, 0.005224083550274372, '00:00']\n",
      "[21, 0.0036118223797529936, 0.005224083550274372, '00:00']\n",
      "[22, 0.0031850768718868494, 0.0016219399403780699, '00:00']\n",
      "[22, 0.0031850768718868494, 0.0016219399403780699, '00:00']\n",
      "[23, 0.00598873058333993, 0.006628311239182949, '00:00']\n",
      "[23, 0.00598873058333993, 0.006628311239182949, '00:00']\n",
      "[24, 0.003319976618513465, 0.0017032328760251403, '00:00']\n",
      "[24, 0.003319976618513465, 0.0017032328760251403, '00:00']\n",
      "[25, 0.0036189965903759003, 0.012634873390197754, '00:00']\n",
      "[25, 0.0036189965903759003, 0.012634873390197754, '00:00']\n",
      "[26, 0.0025161029770970345, 0.001450965995900333, '00:00']\n",
      "[26, 0.0025161029770970345, 0.001450965995900333, '00:00']\n",
      "[27, 0.00357859767973423, 0.0014794198796153069, '00:00']\n",
      "[27, 0.00357859767973423, 0.0014794198796153069, '00:00']\n",
      "[28, 0.002691894769668579, 0.0033463346771895885, '00:00']\n",
      "[28, 0.002691894769668579, 0.0033463346771895885, '00:00']\n",
      "[29, 0.0023496628273278475, 0.0013995333574712276, '00:00']\n",
      "[29, 0.0023496628273278475, 0.0013995333574712276, '00:00']\n",
      "[30, 0.002936522476375103, 0.0025893414858728647, '00:00']\n",
      "[30, 0.002936522476375103, 0.0025893414858728647, '00:00']\n",
      "[31, 0.0030480173882097006, 0.002969639142975211, '00:00']\n",
      "[31, 0.0030480173882097006, 0.002969639142975211, '00:00']\n",
      "[32, 0.002632071962580085, 0.003724937792867422, '00:01']\n",
      "[32, 0.002632071962580085, 0.003724937792867422, '00:01']\n",
      "[33, 0.0030119058210402727, 0.001134431571699679, '00:00']\n",
      "[33, 0.0030119058210402727, 0.001134431571699679, '00:00']\n",
      "[34, 0.0022386417258530855, 0.0035213236697018147, '00:00']\n",
      "[34, 0.0022386417258530855, 0.0035213236697018147, '00:00']\n",
      "[35, 0.0024430137127637863, 0.0012379775289446115, '00:00']\n",
      "[35, 0.0024430137127637863, 0.0012379775289446115, '00:00']\n",
      "[36, 0.002110222587361932, 0.0012569715036079288, '00:00']\n",
      "[36, 0.002110222587361932, 0.0012569715036079288, '00:00']\n",
      "[37, 0.0018941706512123346, 0.0019639029633253813, '00:00']\n",
      "[37, 0.0018941706512123346, 0.0019639029633253813, '00:00']\n",
      "[38, 0.002058380749076605, 0.00435019051656127, '00:00']\n",
      "[38, 0.002058380749076605, 0.00435019051656127, '00:00']\n",
      "[39, 0.0020320287439972162, 0.0027808756567537785, '00:00']\n",
      "[39, 0.0020320287439972162, 0.0027808756567537785, '00:00']\n",
      "[40, 0.0015057157725095749, 0.0015243255766108632, '00:00']\n",
      "[40, 0.0015057157725095749, 0.0015243255766108632, '00:00']\n",
      "[41, 0.0018844424048438668, 0.002107196254655719, '00:00']\n",
      "[41, 0.0018844424048438668, 0.002107196254655719, '00:00']\n",
      "[42, 0.0017357339384034276, 0.0011759612243622541, '00:00']\n",
      "[42, 0.0017357339384034276, 0.0011759612243622541, '00:00']\n",
      "[43, 0.0015460612485185266, 0.0043303826823830605, '00:00']\n",
      "[43, 0.0015460612485185266, 0.0043303826823830605, '00:00']\n",
      "[44, 0.00140359066426754, 0.0009485603077337146, '00:00']\n",
      "[44, 0.00140359066426754, 0.0009485603077337146, '00:00']\n",
      "[45, 0.0013797656865790486, 0.001735761296004057, '00:00']\n",
      "[45, 0.0013797656865790486, 0.001735761296004057, '00:00']\n",
      "[46, 0.0013666782760992646, 0.001331027946434915, '00:00']\n",
      "[46, 0.0013666782760992646, 0.001331027946434915, '00:00']\n",
      "[47, 0.000996498274616897, 0.0015429932391270995, '00:00']\n",
      "[47, 0.000996498274616897, 0.0015429932391270995, '00:00']\n",
      "[48, 0.001131819561123848, 0.0007686436292715371, '00:00']\n",
      "[48, 0.001131819561123848, 0.0007686436292715371, '00:00']\n",
      "[49, 0.0012743357801809907, 0.0006880686851218343, '00:00']\n",
      "[49, 0.0012743357801809907, 0.0006880686851218343, '00:00']\n",
      "[50, 0.001052994281053543, 0.0012112116673961282, '00:00']\n",
      "[50, 0.001052994281053543, 0.0012112116673961282, '00:00']\n",
      "[51, 0.0008443278493359685, 0.0007459645858034492, '00:00']\n",
      "[51, 0.0008443278493359685, 0.0007459645858034492, '00:00']\n",
      "[52, 0.0007113674655556679, 0.0005358448252081871, '00:00']\n",
      "[52, 0.0007113674655556679, 0.0005358448252081871, '00:00']\n",
      "[53, 0.0006755883805453777, 0.0006222925148904324, '00:00']\n",
      "[53, 0.0006755883805453777, 0.0006222925148904324, '00:00']\n",
      "[54, 0.0006836176617071033, 0.001360349589958787, '00:00']\n",
      "[54, 0.0006836176617071033, 0.001360349589958787, '00:00']\n",
      "[55, 0.0006923101609572768, 0.0007844946812838316, '00:00']\n",
      "[55, 0.0006923101609572768, 0.0007844946812838316, '00:00']\n",
      "[56, 0.0006563719362020493, 0.0004886964452452958, '00:00']\n",
      "[56, 0.0006563719362020493, 0.0004886964452452958, '00:00']\n",
      "[57, 0.0005914284265600145, 0.00046751517220400274, '00:00']\n",
      "[57, 0.0005914284265600145, 0.00046751517220400274, '00:00']\n",
      "[58, 0.0005872951587662101, 0.001006301143206656, '00:00']\n",
      "[58, 0.0005872951587662101, 0.001006301143206656, '00:00']\n",
      "[59, 0.00048755016177892685, 0.00048606289783492684, '00:00']\n",
      "[59, 0.00048755016177892685, 0.00048606289783492684, '00:00']\n",
      "[60, 0.0004313673998694867, 0.000296431448077783, '00:00']\n",
      "[60, 0.0004313673998694867, 0.000296431448077783, '00:00']\n",
      "[61, 0.00032640781137160957, 0.0004827129887416959, '00:00']\n",
      "[61, 0.00032640781137160957, 0.0004827129887416959, '00:00']\n",
      "[62, 0.0003421852889005095, 0.00036384863778948784, '00:00']\n",
      "[62, 0.0003421852889005095, 0.00036384863778948784, '00:00']\n",
      "[63, 0.0003920719027519226, 0.00037745575536973774, '00:00']\n",
      "[63, 0.0003920719027519226, 0.00037745575536973774, '00:00']\n",
      "[64, 0.00032457985798828304, 0.0003576380549930036, '00:00']\n",
      "[64, 0.00032457985798828304, 0.0003576380549930036, '00:00']\n",
      "[65, 0.00028160386136732996, 0.0002113365480909124, '00:00']\n",
      "[65, 0.00028160386136732996, 0.0002113365480909124, '00:00']\n",
      "[66, 0.0001908353006001562, 0.0002088109904434532, '00:00']\n",
      "[66, 0.0001908353006001562, 0.0002088109904434532, '00:00']\n",
      "[67, 0.00019634813361335546, 0.00014350104902405292, '00:00']\n",
      "[67, 0.00019634813361335546, 0.00014350104902405292, '00:00']\n",
      "[68, 0.0001664194860495627, 0.0001963130198419094, '00:00']\n",
      "[68, 0.0001664194860495627, 0.0001963130198419094, '00:00']\n",
      "[69, 0.0001687188196228817, 0.00021646948880515993, '00:00']\n",
      "[69, 0.0001687188196228817, 0.00021646948880515993, '00:00']\n"
     ]
    },
    {
     "name": "stdout",
     "output_type": "stream",
     "text": [
      "[70, 0.0001276823168154806, 0.00015054381219670177, '00:00']\n",
      "[70, 0.0001276823168154806, 0.00015054381219670177, '00:00']\n",
      "[71, 0.00013230893819127232, 0.0001949548168340698, '00:00']\n",
      "[71, 0.00013230893819127232, 0.0001949548168340698, '00:00']\n",
      "[72, 0.00014196163101587445, 0.0001808344677556306, '00:00']\n",
      "[72, 0.00014196163101587445, 0.0001808344677556306, '00:00']\n",
      "[73, 0.00014769051631446928, 0.00011852936586365104, '00:00']\n",
      "[73, 0.00014769051631446928, 0.00011852936586365104, '00:00']\n",
      "[74, 9.178805339615792e-05, 8.883654663804919e-05, '00:00']\n",
      "[74, 9.178805339615792e-05, 8.883654663804919e-05, '00:00']\n",
      "[75, 7.641135016456246e-05, 7.722732698312029e-05, '00:01']\n",
      "[75, 7.641135016456246e-05, 7.722732698312029e-05, '00:01']\n",
      "[76, 6.57902637613006e-05, 8.782993972999975e-05, '00:00']\n",
      "[76, 6.57902637613006e-05, 8.782993972999975e-05, '00:00']\n",
      "[77, 6.477142596850172e-05, 8.38545456645079e-05, '00:00']\n",
      "[77, 6.477142596850172e-05, 8.38545456645079e-05, '00:00']\n",
      "[78, 5.573395173996687e-05, 7.322881720028818e-05, '00:00']\n",
      "[78, 5.573395173996687e-05, 7.322881720028818e-05, '00:00']\n",
      "[79, 5.873091868124902e-05, 6.501576717710122e-05, '00:00']\n",
      "[79, 5.873091868124902e-05, 6.501576717710122e-05, '00:00']\n",
      "[80, 5.663204501615837e-05, 8.311976125696674e-05, '00:00']\n",
      "[80, 5.663204501615837e-05, 8.311976125696674e-05, '00:00']\n",
      "[81, 4.8890815378399566e-05, 9.346123260911554e-05, '00:00']\n",
      "[81, 4.8890815378399566e-05, 9.346123260911554e-05, '00:00']\n",
      "[82, 4.3872114474652335e-05, 5.441451139631681e-05, '00:00']\n",
      "[82, 4.3872114474652335e-05, 5.441451139631681e-05, '00:00']\n",
      "[83, 3.554933937266469e-05, 5.731642886530608e-05, '00:00']\n",
      "[83, 3.554933937266469e-05, 5.731642886530608e-05, '00:00']\n",
      "[84, 3.667722558020614e-05, 5.092430001241155e-05, '00:00']\n",
      "[84, 3.667722558020614e-05, 5.092430001241155e-05, '00:00']\n",
      "[85, 3.15738761855755e-05, 4.579839151119813e-05, '00:00']\n",
      "[85, 3.15738761855755e-05, 4.579839151119813e-05, '00:00']\n",
      "[86, 2.7773945475928485e-05, 4.28833591286093e-05, '00:00']\n",
      "[86, 2.7773945475928485e-05, 4.28833591286093e-05, '00:00']\n",
      "[87, 2.6337604140280746e-05, 4.3177315092179924e-05, '00:00']\n",
      "[87, 2.6337604140280746e-05, 4.3177315092179924e-05, '00:00']\n",
      "[88, 2.6331570552429184e-05, 4.8182781029026955e-05, '00:00']\n",
      "[88, 2.6331570552429184e-05, 4.8182781029026955e-05, '00:00']\n",
      "[89, 2.540699642850086e-05, 4.360506500233896e-05, '00:00']\n",
      "[89, 2.540699642850086e-05, 4.360506500233896e-05, '00:00']\n",
      "[90, 2.458344170008786e-05, 4.1601040720706806e-05, '00:00']\n",
      "[90, 2.458344170008786e-05, 4.1601040720706806e-05, '00:00']\n",
      "[91, 2.315764140803367e-05, 4.0145743696484715e-05, '00:00']\n",
      "[91, 2.315764140803367e-05, 4.0145743696484715e-05, '00:00']\n",
      "[92, 2.1775809727841988e-05, 3.983563874498941e-05, '00:00']\n",
      "[92, 2.1775809727841988e-05, 3.983563874498941e-05, '00:00']\n",
      "[93, 2.0910651073791087e-05, 3.90322384191677e-05, '00:00']\n",
      "[93, 2.0910651073791087e-05, 3.90322384191677e-05, '00:00']\n",
      "[94, 2.0868139472440816e-05, 3.899914008798078e-05, '00:00']\n",
      "[94, 2.0868139472440816e-05, 3.899914008798078e-05, '00:00']\n",
      "[95, 2.0353336367406882e-05, 3.835019379039295e-05, '00:00']\n",
      "[95, 2.0353336367406882e-05, 3.835019379039295e-05, '00:00']\n",
      "[96, 1.9795492335106246e-05, 3.821230711764656e-05, '00:01']\n",
      "[96, 1.9795492335106246e-05, 3.821230711764656e-05, '00:01']\n",
      "[97, 1.9669003449962474e-05, 3.7779012927785516e-05, '00:00']\n",
      "[97, 1.9669003449962474e-05, 3.7779012927785516e-05, '00:00']\n",
      "[98, 1.9455399524304084e-05, 3.771104820771143e-05, '00:00']\n",
      "[98, 1.9455399524304084e-05, 3.771104820771143e-05, '00:00']\n",
      "[99, 1.954333856701851e-05, 3.765139990719035e-05, '00:00']\n",
      "[99, 1.954333856701851e-05, 3.765139990719035e-05, '00:00']\n",
      "Training took 71.48943411299979 seconds\n"
     ]
    }
   ],
   "source": [
    "# Using lr_min as learning rate\n",
    "import time\n",
    "\n",
    "start = time.perf_counter() # Starts timer\n",
    "learn.fit_one_cycle(100, lr_min)\n",
    "end = time.perf_counter() # Ends timer\n",
    "delta_t = end - start\n",
    "print('Training took', delta_t, 'seconds')"
   ]
  },
  {
   "cell_type": "markdown",
   "id": "alike-recall",
   "metadata": {},
   "source": [
    "Here is a depiction of the loss function as it progresses through the batches and epochs of the training dataset and validates the model."
   ]
  },
  {
   "cell_type": "code",
   "execution_count": 52,
   "id": "ultimate-peeing",
   "metadata": {
    "scrolled": true
   },
   "outputs": [
    {
     "data": {
      "image/png": "[encoded data removed]",
      "text/plain": [
       "<Figure size 432x288 with 1 Axes>"
      ]
     },
     "metadata": {
      "needs_background": "light"
     },
     "output_type": "display_data"
    }
   ],
   "source": [
    "recorder.plot_loss()"
   ]
  },
  {
   "cell_type": "markdown",
   "id": "accessible-chain",
   "metadata": {},
   "source": [
    "Finally, we compute the MSE loss."
   ]
  },
  {
   "cell_type": "code",
   "execution_count": 53,
   "id": "hollow-vietnamese",
   "metadata": {},
   "outputs": [
    {
     "data": {
      "text/plain": [
       "(#1) [3.765139990719035e-05]"
      ]
     },
     "execution_count": 53,
     "metadata": {},
     "output_type": "execute_result"
    }
   ],
   "source": [
    "learn.validate()"
   ]
  },
  {
   "cell_type": "markdown",
   "id": "ordered-orlando",
   "metadata": {},
   "source": [
    "That should be good enough."
   ]
  },
  {
   "cell_type": "markdown",
   "id": "established-senate",
   "metadata": {},
   "source": [
    "## Plotting data"
   ]
  },
  {
   "cell_type": "markdown",
   "id": "infinite-toyota",
   "metadata": {},
   "source": [
    "Setting directory for saving outputs."
   ]
  },
  {
   "cell_type": "code",
   "execution_count": 54,
   "id": "powerful-silicon",
   "metadata": {},
   "outputs": [],
   "source": [
    "import os\n",
    "save_dir = \"plotOutput\"\n",
    "if not os.path.exists(save_dir):\n",
    "    os.makedirs(save_dir)"
   ]
  },
  {
   "cell_type": "markdown",
   "id": "existing-grade",
   "metadata": {},
   "source": [
    "Plotting histograms of the training and validation for 20000 events."
   ]
  },
  {
   "cell_type": "code",
   "execution_count": 76,
   "id": "sticky-omega",
   "metadata": {},
   "outputs": [
    {
     "name": "stdout",
     "output_type": "stream",
     "text": [
      "Statistics Comparison \t[25th percentile, median, 75th percentile]\n",
      "E: \n",
      "Orginal: \t\t[-0.896, 0.058, 1.304]\n",
      "Decompressed: \t\t[-0.897, 0.052, 1.296]\n",
      "pt: \n",
      "Orginal: \t\t[-0.066, 1.102, 2.461]\n",
      "Decompressed: \t\t[-0.068, 1.106, 2.469]\n",
      "eta: \n",
      "Orginal: \t\t[-0.839, -0.491, 0.214]\n",
      "Decompressed: \t\t[-0.837, -0.492, 0.212]\n",
      "phi: \n",
      "Orginal: \t\t[-0.818, 0.134, 1.104]\n",
      "Decompressed: \t\t[-0.819, 0.132, 1.102]\n"
     ]
    },
    {
     "data": {
      "image/png": "[encoded data removed]",
      "text/plain": [
       "<Figure size 432x288 with 1 Axes>"
      ]
     },
     "metadata": {
      "needs_background": "light"
     },
     "output_type": "display_data"
    },
    {
     "data": {
      "image/png": "[encoded data removed]",
      "text/plain": [
       "<Figure size 432x288 with 1 Axes>"
      ]
     },
     "metadata": {
      "needs_background": "light"
     },
     "output_type": "display_data"
    },
    {
     "data": {
      "image/png": "[encoded data removed]",
      "text/plain": [
       "<Figure size 432x288 with 1 Axes>"
      ]
     },
     "metadata": {
      "needs_background": "light"
     },
     "output_type": "display_data"
    },
    {
     "data": {
      "image/png": "[encoded data removed]",
      "text/plain": [
       "<Figure size 432x288 with 1 Axes>"
      ]
     },
     "metadata": {
      "needs_background": "light"
     },
     "output_type": "display_data"
    }
   ],
   "source": [
    "import numpy as np\n",
    "\n",
    "plt.close('all')\n",
    "line_style = ['--', '-']\n",
    "markers = ['*', 's']\n",
    "\n",
    "model.to('cpu')\n",
    "\n",
    "save = True\n",
    "\n",
    "# Histograms\n",
    "idxs = (0, 20000)  # Choose events to compare\n",
    "data = torch.tensor(test[idxs[0]:idxs[1]].values, dtype=torch.float)\n",
    "decomp_data = model(data)\n",
    "decomp_data = decomp_data.detach().numpy()\n",
    "data = data.detach().numpy()\n",
    "\n",
    "data_df = pd.DataFrame(data, columns=test.columns)\n",
    "decomp_data_df = pd.DataFrame(decomp_data, columns=test.columns)   \n",
    "\n",
    "print(\"Statistics Comparison \\t[25th percentile, median, 75th percentile]\")\n",
    "for col in range(4):\n",
    "    og_stats = statistics.quantiles(data[col], n=4, method='inclusive')\n",
    "    decomp_stats = statistics.quantiles(decomp_data[col], n=4, method='inclusive')\n",
    "    for i in range(len(og_stats)):\n",
    "        og_stats[i] = og_stats[i].round(3)\n",
    "        decomp_stats[i] = decomp_stats[i].round(3)\n",
    "    print(str(df.columns[col])+\": \",end='\\n')\n",
    "    print(\"Orginal: \\t\\t\"+str(og_stats))\n",
    "    print(\"Decompressed: \\t\\t\"+str(decomp_stats))\n",
    "\n",
    "n_bins = 120\n",
    "for i in np.arange(4):\n",
    "    plt.figure()\n",
    "    n_hist_data, bin_edges, _ = plt.hist(data[:, i], color='c', label='Input', alpha=1, bins=n_bins)\n",
    "    n_hist_decomp_data, _, _ = plt.hist(decomp_data[:, i], color='orange', label='Output', alpha=0.5, bins=bin_edges)\n",
    "    plt.suptitle(test.columns[i])\n",
    "    plt.xlabel(test.columns[i])\n",
    "    plt.ylabel('No. of jets')\n",
    "    plt.yscale('log')\n",
    "    if save:\n",
    "        plt.savefig(os.path.join(save_dir,test.columns[i]+'.png'))\n",
    "    plt.legend()\n",
    "\n"
   ]
  }
 ],
 "metadata": {
  "kernelspec": {
   "display_name": "Python 3",
   "language": "python",
   "name": "python3"
  },
  "language_info": {
   "codemirror_mode": {
    "name": "ipython",
    "version": 3
   },
   "file_extension": ".py",
   "mimetype": "text/x-python",
   "name": "python",
   "nbconvert_exporter": "python",
   "pygments_lexer": "ipython3",
   "version": "3.8.5"
  }
 },
 "nbformat": 4,
 "nbformat_minor": 5
}
