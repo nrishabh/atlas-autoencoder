{
 "cells": [
  {
   "cell_type": "markdown",
   "id": "second-awareness",
   "metadata": {},
   "source": [
    "# Implementing an autoencoder for ATLAS "
   ]
  },
  {
   "cell_type": "markdown",
   "id": "polished-expression",
   "metadata": {},
   "source": [
    "An autoencoder neural network was used to compress the four-momentum of a sample of simulated particles from 4 to 3 variables.\n",
    "\n",
    "This was an evaluation task by the maintainers of the ATLAS project at CERN."
   ]
  },
  {
   "cell_type": "code",
   "execution_count": 13,
   "id": "living-convergence",
   "metadata": {},
   "outputs": [
    {
     "data": {
      "text/plain": [
       "'3.8.5 (default, Jan 27 2021, 15:41:15) \\n[GCC 9.3.0]'"
      ]
     },
     "execution_count": 13,
     "metadata": {},
     "output_type": "execute_result"
    }
   ],
   "source": [
    "import sys\n",
    "sys.version"
   ]
  },
  {
   "cell_type": "markdown",
   "id": "iraqi-basics",
   "metadata": {},
   "source": [
    "## Importing the dataset and 'cleaning' the data"
   ]
  },
  {
   "cell_type": "markdown",
   "id": "conventional-brunswick",
   "metadata": {},
   "source": [
    "Two interesting properties of the given CSV file:\n",
    "1. Empty fields are not specified by separators at the end of the line.\n",
    "2. Two kinds of delimiters used - semicolon (;) and comma (,).\n",
    "\n",
    "Both the issues were ironed out using python's built-in CSV engine. To avoid typecasting every field, a new 'clean' CSV file was created, which was imported using pandas and hence, all the fields were allocated appropriate data types by pandas automatically."
   ]
  },
  {
   "cell_type": "code",
   "execution_count": 14,
   "id": "major-conditioning",
   "metadata": {
    "scrolled": true
   },
   "outputs": [],
   "source": [
    "import csv\n",
    "\n",
    "temp_data = []\n",
    "d = []\n",
    "\n",
    "with open('dataset.csv') as csvfile:\n",
    "    # Here, lines are split by semicolon\n",
    "    areader = csv.reader(csvfile, delimiter = ';')\n",
    "    \n",
    "    # This code splits the fields that contain a comma\n",
    "    for row in areader:\n",
    "        temp = list()\n",
    "        for element in row:\n",
    "            if ',' in element:\n",
    "                a = element.split(',')\n",
    "                temp = temp+a\n",
    "            else:\n",
    "                temp.append(element)\n",
    "        temp_data.append(temp)\n",
    "                \n",
    "    # Find out max no. of columns\n",
    "    max_elems = 0\n",
    "    for row in temp_data:\n",
    "        if max_elems < len(row):\n",
    "            max_elems = len(row)\n",
    "        \n",
    "    csvfile.seek(0)\n",
    "    \n",
    "    # Add separators for empty fields by padding the rows\n",
    "    for i, row in enumerate(temp_data):         \n",
    "        d.append(row + [\"\" for x in range(max_elems-len(row))])\n",
    "\n",
    "# Write to a new CSV file\n",
    "with open ('new_dataset.csv', 'w') as csvfile:\n",
    "    writer = csv.writer(csvfile)\n",
    "    writer.writerows(d)"
   ]
  },
  {
   "cell_type": "code",
   "execution_count": 15,
   "id": "welcome-bracelet",
   "metadata": {
    "scrolled": true
   },
   "outputs": [
    {
     "data": {
      "text/html": [
       "<div>\n",
       "<style scoped>\n",
       "    .dataframe tbody tr th:only-of-type {\n",
       "        vertical-align: middle;\n",
       "    }\n",
       "\n",
       "    .dataframe tbody tr th {\n",
       "        vertical-align: top;\n",
       "    }\n",
       "\n",
       "    .dataframe thead th {\n",
       "        text-align: right;\n",
       "    }\n",
       "</style>\n",
       "<table border=\"1\" class=\"dataframe\">\n",
       "  <thead>\n",
       "    <tr style=\"text-align: right;\">\n",
       "      <th></th>\n",
       "      <th>0</th>\n",
       "      <th>1</th>\n",
       "      <th>2</th>\n",
       "      <th>3</th>\n",
       "      <th>4</th>\n",
       "      <th>5</th>\n",
       "      <th>6</th>\n",
       "      <th>7</th>\n",
       "      <th>8</th>\n",
       "      <th>9</th>\n",
       "      <th>...</th>\n",
       "      <th>56</th>\n",
       "      <th>57</th>\n",
       "      <th>58</th>\n",
       "      <th>59</th>\n",
       "      <th>60</th>\n",
       "      <th>61</th>\n",
       "      <th>62</th>\n",
       "      <th>63</th>\n",
       "      <th>64</th>\n",
       "      <th>65</th>\n",
       "    </tr>\n",
       "  </thead>\n",
       "  <tbody>\n",
       "    <tr>\n",
       "      <th>0</th>\n",
       "      <td>354</td>\n",
       "      <td>monojet_Zp2000.0_DM_50.0</td>\n",
       "      <td>0.000024</td>\n",
       "      <td>832841.0</td>\n",
       "      <td>-1.224310</td>\n",
       "      <td>b</td>\n",
       "      <td>947383.0</td>\n",
       "      <td>824498.0</td>\n",
       "      <td>-0.523103</td>\n",
       "      <td>1.644210</td>\n",
       "      <td>...</td>\n",
       "      <td>NaN</td>\n",
       "      <td>NaN</td>\n",
       "      <td>NaN</td>\n",
       "      <td>NaN</td>\n",
       "      <td>NaN</td>\n",
       "      <td>NaN</td>\n",
       "      <td>NaN</td>\n",
       "      <td>NaN</td>\n",
       "      <td>NaN</td>\n",
       "      <td>NaN</td>\n",
       "    </tr>\n",
       "    <tr>\n",
       "      <th>1</th>\n",
       "      <td>354</td>\n",
       "      <td>monojet_Zp2000.0_DM_50.0</td>\n",
       "      <td>0.000024</td>\n",
       "      <td>732115.0</td>\n",
       "      <td>1.172450</td>\n",
       "      <td>j</td>\n",
       "      <td>1069460.0</td>\n",
       "      <td>751597.0</td>\n",
       "      <td>0.858186</td>\n",
       "      <td>-1.842170</td>\n",
       "      <td>...</td>\n",
       "      <td>NaN</td>\n",
       "      <td>NaN</td>\n",
       "      <td>NaN</td>\n",
       "      <td>NaN</td>\n",
       "      <td>NaN</td>\n",
       "      <td>NaN</td>\n",
       "      <td>NaN</td>\n",
       "      <td>NaN</td>\n",
       "      <td>NaN</td>\n",
       "      <td>NaN</td>\n",
       "    </tr>\n",
       "    <tr>\n",
       "      <th>2</th>\n",
       "      <td>354</td>\n",
       "      <td>monojet_Zp2000.0_DM_50.0</td>\n",
       "      <td>0.000024</td>\n",
       "      <td>1056280.0</td>\n",
       "      <td>-3.067440</td>\n",
       "      <td>j</td>\n",
       "      <td>676000.0</td>\n",
       "      <td>640429.0</td>\n",
       "      <td>0.330450</td>\n",
       "      <td>0.704554</td>\n",
       "      <td>...</td>\n",
       "      <td>NaN</td>\n",
       "      <td>NaN</td>\n",
       "      <td>NaN</td>\n",
       "      <td>NaN</td>\n",
       "      <td>NaN</td>\n",
       "      <td>NaN</td>\n",
       "      <td>NaN</td>\n",
       "      <td>NaN</td>\n",
       "      <td>NaN</td>\n",
       "      <td>NaN</td>\n",
       "    </tr>\n",
       "    <tr>\n",
       "      <th>3</th>\n",
       "      <td>354</td>\n",
       "      <td>monojet_Zp2000.0_DM_50.0</td>\n",
       "      <td>0.000024</td>\n",
       "      <td>631781.0</td>\n",
       "      <td>1.641810</td>\n",
       "      <td>j</td>\n",
       "      <td>936707.0</td>\n",
       "      <td>616229.0</td>\n",
       "      <td>0.973383</td>\n",
       "      <td>-1.565920</td>\n",
       "      <td>...</td>\n",
       "      <td>NaN</td>\n",
       "      <td>NaN</td>\n",
       "      <td>NaN</td>\n",
       "      <td>NaN</td>\n",
       "      <td>NaN</td>\n",
       "      <td>NaN</td>\n",
       "      <td>NaN</td>\n",
       "      <td>NaN</td>\n",
       "      <td>NaN</td>\n",
       "      <td>NaN</td>\n",
       "    </tr>\n",
       "    <tr>\n",
       "      <th>4</th>\n",
       "      <td>354</td>\n",
       "      <td>monojet_Zp2000.0_DM_50.0</td>\n",
       "      <td>0.000024</td>\n",
       "      <td>457316.0</td>\n",
       "      <td>-1.875360</td>\n",
       "      <td>j</td>\n",
       "      <td>640313.0</td>\n",
       "      <td>589524.0</td>\n",
       "      <td>0.390749</td>\n",
       "      <td>1.237340</td>\n",
       "      <td>...</td>\n",
       "      <td>NaN</td>\n",
       "      <td>NaN</td>\n",
       "      <td>NaN</td>\n",
       "      <td>NaN</td>\n",
       "      <td>NaN</td>\n",
       "      <td>NaN</td>\n",
       "      <td>NaN</td>\n",
       "      <td>NaN</td>\n",
       "      <td>NaN</td>\n",
       "      <td>NaN</td>\n",
       "    </tr>\n",
       "    <tr>\n",
       "      <th>...</th>\n",
       "      <td>...</td>\n",
       "      <td>...</td>\n",
       "      <td>...</td>\n",
       "      <td>...</td>\n",
       "      <td>...</td>\n",
       "      <td>...</td>\n",
       "      <td>...</td>\n",
       "      <td>...</td>\n",
       "      <td>...</td>\n",
       "      <td>...</td>\n",
       "      <td>...</td>\n",
       "      <td>...</td>\n",
       "      <td>...</td>\n",
       "      <td>...</td>\n",
       "      <td>...</td>\n",
       "      <td>...</td>\n",
       "      <td>...</td>\n",
       "      <td>...</td>\n",
       "      <td>...</td>\n",
       "      <td>...</td>\n",
       "      <td>...</td>\n",
       "    </tr>\n",
       "    <tr>\n",
       "      <th>6394</th>\n",
       "      <td>354</td>\n",
       "      <td>monojet_Zp2000.0_DM_50.0</td>\n",
       "      <td>0.000024</td>\n",
       "      <td>914355.0</td>\n",
       "      <td>1.529030</td>\n",
       "      <td>j</td>\n",
       "      <td>1119940.0</td>\n",
       "      <td>1012690.0</td>\n",
       "      <td>0.453265</td>\n",
       "      <td>-1.772780</td>\n",
       "      <td>...</td>\n",
       "      <td>NaN</td>\n",
       "      <td>NaN</td>\n",
       "      <td>NaN</td>\n",
       "      <td>NaN</td>\n",
       "      <td>NaN</td>\n",
       "      <td>NaN</td>\n",
       "      <td>NaN</td>\n",
       "      <td>NaN</td>\n",
       "      <td>NaN</td>\n",
       "      <td>NaN</td>\n",
       "    </tr>\n",
       "    <tr>\n",
       "      <th>6395</th>\n",
       "      <td>354</td>\n",
       "      <td>monojet_Zp2000.0_DM_50.0</td>\n",
       "      <td>0.000024</td>\n",
       "      <td>782256.0</td>\n",
       "      <td>-1.207510</td>\n",
       "      <td>j</td>\n",
       "      <td>1915090.0</td>\n",
       "      <td>874869.0</td>\n",
       "      <td>1.418550</td>\n",
       "      <td>1.839270</td>\n",
       "      <td>...</td>\n",
       "      <td>NaN</td>\n",
       "      <td>NaN</td>\n",
       "      <td>NaN</td>\n",
       "      <td>NaN</td>\n",
       "      <td>NaN</td>\n",
       "      <td>NaN</td>\n",
       "      <td>NaN</td>\n",
       "      <td>NaN</td>\n",
       "      <td>NaN</td>\n",
       "      <td>NaN</td>\n",
       "    </tr>\n",
       "    <tr>\n",
       "      <th>6396</th>\n",
       "      <td>354</td>\n",
       "      <td>monojet_Zp2000.0_DM_50.0</td>\n",
       "      <td>0.000024</td>\n",
       "      <td>645619.0</td>\n",
       "      <td>-2.483990</td>\n",
       "      <td>j</td>\n",
       "      <td>787964.0</td>\n",
       "      <td>263158.0</td>\n",
       "      <td>1.759810</td>\n",
       "      <td>0.456786</td>\n",
       "      <td>...</td>\n",
       "      <td>NaN</td>\n",
       "      <td>NaN</td>\n",
       "      <td>NaN</td>\n",
       "      <td>NaN</td>\n",
       "      <td>NaN</td>\n",
       "      <td>NaN</td>\n",
       "      <td>NaN</td>\n",
       "      <td>NaN</td>\n",
       "      <td>NaN</td>\n",
       "      <td>NaN</td>\n",
       "    </tr>\n",
       "    <tr>\n",
       "      <th>6397</th>\n",
       "      <td>354</td>\n",
       "      <td>monojet_Zp2000.0_DM_50.0</td>\n",
       "      <td>0.000024</td>\n",
       "      <td>632390.0</td>\n",
       "      <td>-0.975687</td>\n",
       "      <td>j</td>\n",
       "      <td>731849.0</td>\n",
       "      <td>722541.0</td>\n",
       "      <td>-0.134499</td>\n",
       "      <td>2.563930</td>\n",
       "      <td>...</td>\n",
       "      <td>NaN</td>\n",
       "      <td>NaN</td>\n",
       "      <td>NaN</td>\n",
       "      <td>NaN</td>\n",
       "      <td>NaN</td>\n",
       "      <td>NaN</td>\n",
       "      <td>NaN</td>\n",
       "      <td>NaN</td>\n",
       "      <td>NaN</td>\n",
       "      <td>NaN</td>\n",
       "    </tr>\n",
       "    <tr>\n",
       "      <th>6398</th>\n",
       "      <td>354</td>\n",
       "      <td>monojet_Zp2000.0_DM_50.0</td>\n",
       "      <td>0.000024</td>\n",
       "      <td>820060.0</td>\n",
       "      <td>-0.043785</td>\n",
       "      <td>j</td>\n",
       "      <td>893689.0</td>\n",
       "      <td>742040.0</td>\n",
       "      <td>-0.618057</td>\n",
       "      <td>-3.104660</td>\n",
       "      <td>...</td>\n",
       "      <td>NaN</td>\n",
       "      <td>NaN</td>\n",
       "      <td>NaN</td>\n",
       "      <td>NaN</td>\n",
       "      <td>NaN</td>\n",
       "      <td>NaN</td>\n",
       "      <td>NaN</td>\n",
       "      <td>NaN</td>\n",
       "      <td>NaN</td>\n",
       "      <td>NaN</td>\n",
       "    </tr>\n",
       "  </tbody>\n",
       "</table>\n",
       "<p>6399 rows × 66 columns</p>\n",
       "</div>"
      ],
      "text/plain": [
       "       0                         1         2          3         4  5   \\\n",
       "0     354  monojet_Zp2000.0_DM_50.0  0.000024   832841.0 -1.224310  b   \n",
       "1     354  monojet_Zp2000.0_DM_50.0  0.000024   732115.0  1.172450  j   \n",
       "2     354  monojet_Zp2000.0_DM_50.0  0.000024  1056280.0 -3.067440  j   \n",
       "3     354  monojet_Zp2000.0_DM_50.0  0.000024   631781.0  1.641810  j   \n",
       "4     354  monojet_Zp2000.0_DM_50.0  0.000024   457316.0 -1.875360  j   \n",
       "...   ...                       ...       ...        ...       ... ..   \n",
       "6394  354  monojet_Zp2000.0_DM_50.0  0.000024   914355.0  1.529030  j   \n",
       "6395  354  monojet_Zp2000.0_DM_50.0  0.000024   782256.0 -1.207510  j   \n",
       "6396  354  monojet_Zp2000.0_DM_50.0  0.000024   645619.0 -2.483990  j   \n",
       "6397  354  monojet_Zp2000.0_DM_50.0  0.000024   632390.0 -0.975687  j   \n",
       "6398  354  monojet_Zp2000.0_DM_50.0  0.000024   820060.0 -0.043785  j   \n",
       "\n",
       "             6          7         8         9   ...  56  57  58  59   60  61  \\\n",
       "0      947383.0   824498.0 -0.523103  1.644210  ... NaN NaN NaN NaN  NaN NaN   \n",
       "1     1069460.0   751597.0  0.858186 -1.842170  ... NaN NaN NaN NaN  NaN NaN   \n",
       "2      676000.0   640429.0  0.330450  0.704554  ... NaN NaN NaN NaN  NaN NaN   \n",
       "3      936707.0   616229.0  0.973383 -1.565920  ... NaN NaN NaN NaN  NaN NaN   \n",
       "4      640313.0   589524.0  0.390749  1.237340  ... NaN NaN NaN NaN  NaN NaN   \n",
       "...         ...        ...       ...       ...  ...  ..  ..  ..  ..  ...  ..   \n",
       "6394  1119940.0  1012690.0  0.453265 -1.772780  ... NaN NaN NaN NaN  NaN NaN   \n",
       "6395  1915090.0   874869.0  1.418550  1.839270  ... NaN NaN NaN NaN  NaN NaN   \n",
       "6396   787964.0   263158.0  1.759810  0.456786  ... NaN NaN NaN NaN  NaN NaN   \n",
       "6397   731849.0   722541.0 -0.134499  2.563930  ... NaN NaN NaN NaN  NaN NaN   \n",
       "6398   893689.0   742040.0 -0.618057 -3.104660  ... NaN NaN NaN NaN  NaN NaN   \n",
       "\n",
       "      62  63  64  65  \n",
       "0    NaN NaN NaN NaN  \n",
       "1    NaN NaN NaN NaN  \n",
       "2    NaN NaN NaN NaN  \n",
       "3    NaN NaN NaN NaN  \n",
       "4    NaN NaN NaN NaN  \n",
       "...   ..  ..  ..  ..  \n",
       "6394 NaN NaN NaN NaN  \n",
       "6395 NaN NaN NaN NaN  \n",
       "6396 NaN NaN NaN NaN  \n",
       "6397 NaN NaN NaN NaN  \n",
       "6398 NaN NaN NaN NaN  \n",
       "\n",
       "[6399 rows x 66 columns]"
      ]
     },
     "execution_count": 15,
     "metadata": {},
     "output_type": "execute_result"
    }
   ],
   "source": [
    "import pandas as pd\n",
    "temp_df = pd.read_csv('new_dataset.csv', header=None)\n",
    "temp_df"
   ]
  },
  {
   "cell_type": "markdown",
   "id": "certain-witness",
   "metadata": {},
   "source": [
    "## Obtaining relevant data from the dataset"
   ]
  },
  {
   "cell_type": "markdown",
   "id": "fundamental-richmond",
   "metadata": {},
   "source": [
    "From the dataset, we can disregard the first five columns, which correspond to the event details. Beginning from the sixth column, we see a set of 5 fields that correspond to the type of object and its four momentum. There are in total 65 fields, which implies that an event may have resulted in up to 12 objects to be detected.\n",
    "\n",
    "Our aim is to work on the four momentum of only jet object (id='j'). To do that we create an empty dataframe of four columns (E, pt, eta, phi), which will be used to note down the values of the four momentum. We begin by looking for jet objects in every object detected for all events. For every jet object that is found, we add the values of its four momentum to the dataframe we created."
   ]
  },
  {
   "cell_type": "code",
   "execution_count": 16,
   "id": "conscious-today",
   "metadata": {},
   "outputs": [],
   "source": [
    "df = pd.DataFrame(columns = ['E','pt','eta','phi'])\n",
    "count = 0\n",
    "for l in range(len(temp_df)):\n",
    "    for i in range(5,61,5):\n",
    "        if temp_df.iloc[l,i] == 'j':\n",
    "            df.loc[count] = [temp_df.iloc[l,i+1],temp_df.iloc[l,i+2],temp_df.iloc[l,i+3],temp_df.iloc[l,i+4]]\n",
    "            count += 1"
   ]
  },
  {
   "cell_type": "code",
   "execution_count": 17,
   "id": "residential-condition",
   "metadata": {},
   "outputs": [
    {
     "name": "stdout",
     "output_type": "stream",
     "text": [
      "Column name: E\n",
      "Max: 4413680.0\n",
      "Min: 24375.8\n",
      "\n",
      "\n",
      "Column name: pt\n",
      "Max: 2090860.0\n",
      "Min: 22086.5\n",
      "\n",
      "\n",
      "Column name: eta\n",
      "Max: 4.75308\n",
      "Min: -4.87011\n",
      "\n",
      "\n",
      "Column name: phi\n",
      "Max: 3.14121\n",
      "Min: -3.14156\n",
      "\n",
      "\n"
     ]
    }
   ],
   "source": [
    "for i in df:\n",
    "    print(\"Column name: \"+str(i))\n",
    "    print(\"Max: \"+str(max(df[i])))\n",
    "    print(\"Min: \"+str(min(df[i])))\n",
    "    print(\"\\n\")"
   ]
  },
  {
   "cell_type": "markdown",
   "id": "prospective-space",
   "metadata": {},
   "source": [
    "We can see that the columns 'E' and 'pt' have data ranging from 10^5 to 10^7 while columns 'eta' and 'phi' have data ranging from 10^0 to 10^1. To make sure that our model trains well, we need to make sure the range of all our columns are close. Hence, we will divide columns 'E' and 'pt' by 10^5 and change their names to describe the conversion."
   ]
  },
  {
   "cell_type": "code",
   "execution_count": 18,
   "id": "mounted-whale",
   "metadata": {},
   "outputs": [
    {
     "data": {
      "text/html": [
       "<div>\n",
       "<style scoped>\n",
       "    .dataframe tbody tr th:only-of-type {\n",
       "        vertical-align: middle;\n",
       "    }\n",
       "\n",
       "    .dataframe tbody tr th {\n",
       "        vertical-align: top;\n",
       "    }\n",
       "\n",
       "    .dataframe thead th {\n",
       "        text-align: right;\n",
       "    }\n",
       "</style>\n",
       "<table border=\"1\" class=\"dataframe\">\n",
       "  <thead>\n",
       "    <tr style=\"text-align: right;\">\n",
       "      <th></th>\n",
       "      <th>E (10^5)</th>\n",
       "      <th>pt (10^5)</th>\n",
       "      <th>eta</th>\n",
       "      <th>phi</th>\n",
       "    </tr>\n",
       "  </thead>\n",
       "  <tbody>\n",
       "    <tr>\n",
       "      <th>0</th>\n",
       "      <td>2.587220</td>\n",
       "      <td>2.436750</td>\n",
       "      <td>0.328962</td>\n",
       "      <td>2.250140</td>\n",
       "    </tr>\n",
       "    <tr>\n",
       "      <th>1</th>\n",
       "      <td>5.200920</td>\n",
       "      <td>1.085900</td>\n",
       "      <td>-2.247300</td>\n",
       "      <td>-1.856790</td>\n",
       "    </tr>\n",
       "    <tr>\n",
       "      <th>2</th>\n",
       "      <td>3.830240</td>\n",
       "      <td>0.884056</td>\n",
       "      <td>2.145160</td>\n",
       "      <td>-1.956350</td>\n",
       "    </tr>\n",
       "    <tr>\n",
       "      <th>3</th>\n",
       "      <td>0.395076</td>\n",
       "      <td>0.353651</td>\n",
       "      <td>0.470460</td>\n",
       "      <td>-1.164450</td>\n",
       "    </tr>\n",
       "    <tr>\n",
       "      <th>4</th>\n",
       "      <td>2.254300</td>\n",
       "      <td>0.268782</td>\n",
       "      <td>-2.816080</td>\n",
       "      <td>-2.259380</td>\n",
       "    </tr>\n",
       "    <tr>\n",
       "      <th>...</th>\n",
       "      <td>...</td>\n",
       "      <td>...</td>\n",
       "      <td>...</td>\n",
       "      <td>...</td>\n",
       "    </tr>\n",
       "    <tr>\n",
       "      <th>22656</th>\n",
       "      <td>7.318490</td>\n",
       "      <td>7.225410</td>\n",
       "      <td>-0.134499</td>\n",
       "      <td>2.563930</td>\n",
       "    </tr>\n",
       "    <tr>\n",
       "      <th>22657</th>\n",
       "      <td>2.688280</td>\n",
       "      <td>2.591440</td>\n",
       "      <td>0.153813</td>\n",
       "      <td>0.578428</td>\n",
       "    </tr>\n",
       "    <tr>\n",
       "      <th>22658</th>\n",
       "      <td>1.533400</td>\n",
       "      <td>0.439315</td>\n",
       "      <td>1.920140</td>\n",
       "      <td>-0.237382</td>\n",
       "    </tr>\n",
       "    <tr>\n",
       "      <th>22659</th>\n",
       "      <td>8.936890</td>\n",
       "      <td>7.420400</td>\n",
       "      <td>-0.618057</td>\n",
       "      <td>-3.104660</td>\n",
       "    </tr>\n",
       "    <tr>\n",
       "      <th>22660</th>\n",
       "      <td>1.075260</td>\n",
       "      <td>1.069950</td>\n",
       "      <td>-0.048565</td>\n",
       "      <td>2.436060</td>\n",
       "    </tr>\n",
       "  </tbody>\n",
       "</table>\n",
       "<p>22661 rows × 4 columns</p>\n",
       "</div>"
      ],
      "text/plain": [
       "       E (10^5)  pt (10^5)       eta       phi\n",
       "0      2.587220   2.436750  0.328962  2.250140\n",
       "1      5.200920   1.085900 -2.247300 -1.856790\n",
       "2      3.830240   0.884056  2.145160 -1.956350\n",
       "3      0.395076   0.353651  0.470460 -1.164450\n",
       "4      2.254300   0.268782 -2.816080 -2.259380\n",
       "...         ...        ...       ...       ...\n",
       "22656  7.318490   7.225410 -0.134499  2.563930\n",
       "22657  2.688280   2.591440  0.153813  0.578428\n",
       "22658  1.533400   0.439315  1.920140 -0.237382\n",
       "22659  8.936890   7.420400 -0.618057 -3.104660\n",
       "22660  1.075260   1.069950 -0.048565  2.436060\n",
       "\n",
       "[22661 rows x 4 columns]"
      ]
     },
     "execution_count": 18,
     "metadata": {},
     "output_type": "execute_result"
    }
   ],
   "source": [
    "df['E'] = df['E']/100000\n",
    "df['pt'] = df['pt']/100000\n",
    "df.rename(columns={\"E\": \"E (10^5)\", \"pt\": \"pt (10^5)\"}, inplace = True)\n",
    "df"
   ]
  },
  {
   "cell_type": "markdown",
   "id": "proprietary-liverpool",
   "metadata": {},
   "source": [
    "## Describing data for training and validating the model"
   ]
  },
  {
   "cell_type": "markdown",
   "id": "welcome-martial",
   "metadata": {},
   "source": [
    "We will now be splitting the data into a 75:25 ratio for training and validation. The data used for training has been plotted then."
   ]
  },
  {
   "cell_type": "code",
   "execution_count": 19,
   "id": "portable-society",
   "metadata": {},
   "outputs": [],
   "source": [
    "# Splitting data into training and validation of ratio 75:25 randomly.\n",
    "from sklearn.model_selection import train_test_split\n",
    "\n",
    "train, test = train_test_split(df, test_size=0.25)"
   ]
  },
  {
   "cell_type": "code",
   "execution_count": 20,
   "id": "developmental-buffer",
   "metadata": {},
   "outputs": [
    {
     "name": "stdout",
     "output_type": "stream",
     "text": [
      "Training sample:\n",
      "       E (10^5)  pt (10^5)       eta       phi\n",
      "12860   1.26219   1.247560  0.111721  1.299460\n",
      "10728   3.91716   3.837960 -0.086613 -0.071681\n",
      "14385   6.10849   5.499000 -0.395276 -2.526780\n",
      "10358   3.39384   3.271810 -0.160354 -2.257660\n",
      "8274    1.74903   0.929681 -1.240990 -2.094720\n",
      "\n",
      "\n",
      "Testing sample:\n",
      "       E (10^5)  pt (10^5)       eta      phi\n",
      "19554  9.683960   3.392530  1.709130  1.65616\n",
      "13820  0.847911   0.543161 -0.999728  2.33495\n",
      "5480   4.950340   0.342785 -3.361950 -2.68709\n",
      "16698  1.831900   1.752810  0.232896 -2.97723\n",
      "11113  7.674470   7.570360 -0.148339 -1.56063\n",
      "\n",
      "\n",
      "The number of entries in the training data: 16995\n",
      "The number of entries in the validation data: 5666\n"
     ]
    }
   ],
   "source": [
    "print('Training sample:')\n",
    "print(train.head())\n",
    "\n",
    "print('\\n')\n",
    "\n",
    "print('Testing sample:')\n",
    "print(test.head())\n",
    "\n",
    "print('\\n')\n",
    "\n",
    "print('The number of entries in the training data:', len(train))\n",
    "print('The number of entries in the validation data:', len(test))"
   ]
  },
  {
   "cell_type": "code",
   "execution_count": 21,
   "id": "laughing-general",
   "metadata": {},
   "outputs": [
    {
     "data": {
      "image/png": "[encoded data removed]",
      "text/plain": [
       "<Figure size 432x288 with 1 Axes>"
      ]
     },
     "metadata": {
      "needs_background": "light"
     },
     "output_type": "display_data"
    },
    {
     "data": {
      "image/png": "[encoded data removed]",
      "text/plain": [
       "<Figure size 432x288 with 1 Axes>"
      ]
     },
     "metadata": {
      "needs_background": "light"
     },
     "output_type": "display_data"
    },
    {
     "data": {
      "image/png": "[encoded data removed]",
      "text/plain": [
       "<Figure size 432x288 with 1 Axes>"
      ]
     },
     "metadata": {
      "needs_background": "light"
     },
     "output_type": "display_data"
    },
    {
     "data": {
      "image/png": "[encoded data removed]",
      "text/plain": [
       "<Figure size 432x288 with 1 Axes>"
      ]
     },
     "metadata": {
      "needs_background": "light"
     },
     "output_type": "display_data"
    }
   ],
   "source": [
    "# Plotting the training data\n",
    "import matplotlib.pyplot as plt\n",
    "\n",
    "branches=[\"E (10^5)\",\"pt (10^5)\",\"eta\",\"phi\"]\n",
    "\n",
    "n_bins = 120\n",
    "\n",
    "for kk in range(0,4):\n",
    "    n_hist_data, bin_edges, _ = plt.hist(train[branches[kk]], label='Input', alpha=1, bins=n_bins)\n",
    "    plt.xlabel(xlabel=branches[kk])\n",
    "    plt.ylabel('No. of events')\n",
    "    plt.show()"
   ]
  },
  {
   "cell_type": "markdown",
   "id": "beneficial-brake",
   "metadata": {},
   "source": [
    "## Preparing data for use with fastai"
   ]
  },
  {
   "cell_type": "markdown",
   "id": "attached-macintosh",
   "metadata": {},
   "source": [
    "Tensor objects are created for training and validation. pyTorch's DataLoader is used to define batch sizes for both these objects. These objects are then loaded into a fastai object, which will now be used on our model."
   ]
  },
  {
   "cell_type": "code",
   "execution_count": 22,
   "id": "ready-static",
   "metadata": {},
   "outputs": [],
   "source": [
    "import torch\n",
    "import torch.nn as nn\n",
    "import torch.optim as optim\n",
    "import torch.utils.data\n",
    "from torch.autograd import Variable\n",
    "\n",
    "from torch.utils.data import TensorDataset\n",
    "from torch.utils.data import DataLoader\n",
    "\n",
    "\n",
    "train_x = train\n",
    "test_x = test\n",
    "\n",
    "# Since output = input, y = x\n",
    "train_y = train_x \n",
    "test_y = test_x\n",
    "\n",
    "# Constructs a tensor object of the data and wraps them in a TensorDataset object.\n",
    "train_ds = TensorDataset(torch.tensor(train_x.values, dtype=torch.float), torch.tensor(train_y.values, dtype=torch.float))\n",
    "valid_ds = TensorDataset(torch.tensor(test_x.values, dtype=torch.float), torch.tensor(test_y.values, dtype=torch.float))"
   ]
  },
  {
   "cell_type": "code",
   "execution_count": 23,
   "id": "becoming-solution",
   "metadata": {},
   "outputs": [],
   "source": [
    "from fastai import learner\n",
    "from fastai.data import core\n",
    "\n",
    "bs = 256\n",
    "\n",
    "# Converts the TensorDataset into a DataLoader object and combines into one DataLoaders object (a basic wrapper\n",
    "# around several DataLoader objects). \n",
    "train_dl = DataLoader(train_ds, batch_size=bs, shuffle=True)\n",
    "valid_dl = DataLoader(valid_ds, batch_size=bs * 2)\n",
    "dls = core.DataLoaders(train_dl, valid_dl)"
   ]
  },
  {
   "cell_type": "markdown",
   "id": "smoking-pasta",
   "metadata": {},
   "source": [
    "## Describing the model of the neural network"
   ]
  },
  {
   "cell_type": "markdown",
   "id": "driven-dayton",
   "metadata": {},
   "source": [
    "The neural network described in the example notebook (LeakyReLU with 200-20-3-20-200 architecture and a tanh activation function) will be used here as well."
   ]
  },
  {
   "cell_type": "code",
   "execution_count": 24,
   "id": "absent-importance",
   "metadata": {},
   "outputs": [
    {
     "data": {
      "text/plain": [
       "AE_3D_200_LeakyReLU(\n",
       "  (en1): Linear(in_features=4, out_features=200, bias=True)\n",
       "  (en2): Linear(in_features=200, out_features=200, bias=True)\n",
       "  (en3): Linear(in_features=200, out_features=20, bias=True)\n",
       "  (en4): Linear(in_features=20, out_features=3, bias=True)\n",
       "  (de1): Linear(in_features=3, out_features=20, bias=True)\n",
       "  (de2): Linear(in_features=20, out_features=200, bias=True)\n",
       "  (de3): Linear(in_features=200, out_features=200, bias=True)\n",
       "  (de4): Linear(in_features=200, out_features=4, bias=True)\n",
       "  (tanh): Tanh()\n",
       ")"
      ]
     },
     "execution_count": 24,
     "metadata": {},
     "output_type": "execute_result"
    }
   ],
   "source": [
    "class AE_3D_200_LeakyReLU(nn.Module):\n",
    "    def __init__(self, n_features=4):\n",
    "        super(AE_3D_200_LeakyReLU, self).__init__()\n",
    "        self.en1 = nn.Linear(n_features, 200)\n",
    "        self.en2 = nn.Linear(200, 200)\n",
    "        self.en3 = nn.Linear(200, 20)\n",
    "        self.en4 = nn.Linear(20, 3)\n",
    "        self.de1 = nn.Linear(3, 20)\n",
    "        self.de2 = nn.Linear(20, 200)\n",
    "        self.de3 = nn.Linear(200, 200)\n",
    "        self.de4 = nn.Linear(200, n_features)\n",
    "        self.tanh = nn.Tanh()\n",
    "\n",
    "    def encode(self, x):\n",
    "        return self.en4(self.tanh(self.en3(self.tanh(self.en2(self.tanh(self.en1(x)))))))\n",
    "\n",
    "    def decode(self, x):\n",
    "        return self.de4(self.tanh(self.de3(self.tanh(self.de2(self.tanh(self.de1(self.tanh(x))))))))\n",
    "\n",
    "    def forward(self, x):\n",
    "        z = self.encode(x)\n",
    "        return self.decode(z)\n",
    "\n",
    "    def describe(self):\n",
    "        return 'in-200-200-20-3-20-200-200-out'\n",
    "\n",
    "model = AE_3D_200_LeakyReLU()\n",
    "model.to('cpu')"
   ]
  },
  {
   "cell_type": "markdown",
   "id": "judicial-exception",
   "metadata": {},
   "source": [
    "## Defining performance metrics"
   ]
  },
  {
   "cell_type": "markdown",
   "id": "hidden-scope",
   "metadata": {},
   "source": [
    "To compute the loss, we use mean-squared-error (MSE) as a metric."
   ]
  },
  {
   "cell_type": "code",
   "execution_count": 25,
   "id": "above-facility",
   "metadata": {},
   "outputs": [],
   "source": [
    "from fastai.metrics import mse\n",
    "\n",
    "loss_func = nn.MSELoss()\n",
    "\n",
    "wd = 1e-4\n",
    "\n",
    "recorder = learner.Recorder()\n",
    "learn = learner.Learner(dls, model=model, wd=wd, loss_func=loss_func, cbs=recorder)"
   ]
  },
  {
   "cell_type": "markdown",
   "id": "sealed-victory",
   "metadata": {},
   "source": [
    "The lr_find module of fastai is used to find optimum values of the learning rate."
   ]
  },
  {
   "cell_type": "code",
   "execution_count": 26,
   "id": "portable-villa",
   "metadata": {},
   "outputs": [
    {
     "name": "stdout",
     "output_type": "stream",
     "text": [
      "Learning rate with the minimum loss: 0.0030902953818440436\n",
      "Learning rate with the steepest gradient: 7.943282298583654e-07\n"
     ]
    },
    {
     "data": {
      "image/png": "[encoded data removed]",
      "text/plain": [
       "<Figure size 432x288 with 1 Axes>"
      ]
     },
     "metadata": {
      "needs_background": "light"
     },
     "output_type": "display_data"
    }
   ],
   "source": [
    "from fastai.callback import schedule\n",
    "\n",
    "lr_min, lr_steep = learn.lr_find(end_lr = 100)\n",
    "\n",
    "print('Learning rate with the minimum loss:', lr_min)\n",
    "print('Learning rate with the steepest gradient:', lr_steep)"
   ]
  },
  {
   "cell_type": "markdown",
   "id": "demanding-vampire",
   "metadata": {},
   "source": [
    "## Training and testing the model"
   ]
  },
  {
   "cell_type": "markdown",
   "id": "alien-intervention",
   "metadata": {},
   "source": [
    "The epoch has been set to 100 and the learning rate has been set to lr_min as obtained from fastai's lr_find function. "
   ]
  },
  {
   "cell_type": "code",
   "execution_count": 27,
   "id": "suspected-avenue",
   "metadata": {},
   "outputs": [
    {
     "name": "stdout",
     "output_type": "stream",
     "text": [
      "[0, 10.235069274902344, 8.10090446472168, '00:00']\n",
      "[0, 10.235069274902344, 8.10090446472168, '00:00']\n",
      "[1, 6.414185523986816, 3.9707717895507812, '00:00']\n",
      "[1, 6.414185523986816, 3.9707717895507812, '00:00']\n",
      "[2, 3.580148935317993, 2.091618776321411, '00:00']\n",
      "[2, 3.580148935317993, 2.091618776321411, '00:00']\n",
      "[3, 2.0828440189361572, 1.3586995601654053, '00:00']\n",
      "[3, 2.0828440189361572, 1.3586995601654053, '00:00']\n",
      "[4, 1.3340851068496704, 0.9971200227737427, '00:00']\n",
      "[4, 1.3340851068496704, 0.9971200227737427, '00:00']\n",
      "[5, 0.9889674782752991, 0.8104299902915955, '00:00']\n",
      "[5, 0.9889674782752991, 0.8104299902915955, '00:00']\n",
      "[6, 0.747494637966156, 0.5484955906867981, '00:00']\n",
      "[6, 0.747494637966156, 0.5484955906867981, '00:00']\n",
      "[7, 0.47510772943496704, 0.3032650053501129, '00:00']\n",
      "[7, 0.47510772943496704, 0.3032650053501129, '00:00']\n",
      "[8, 0.2786039113998413, 0.15913408994674683, '00:00']\n",
      "[8, 0.2786039113998413, 0.15913408994674683, '00:00']\n",
      "[9, 0.1535506695508957, 0.09618393331766129, '00:00']\n",
      "[9, 0.1535506695508957, 0.09618393331766129, '00:00']\n",
      "[10, 0.1073622852563858, 0.06802205741405487, '00:00']\n",
      "[10, 0.1073622852563858, 0.06802205741405487, '00:00']\n",
      "[11, 0.07621950656175613, 0.052148375660181046, '00:00']\n",
      "[11, 0.07621950656175613, 0.052148375660181046, '00:00']\n",
      "[12, 0.07280579954385757, 0.05354759842157364, '00:00']\n",
      "[12, 0.07280579954385757, 0.05354759842157364, '00:00']\n",
      "[13, 0.04862385615706444, 0.04009275883436203, '00:00']\n",
      "[13, 0.04862385615706444, 0.04009275883436203, '00:00']\n",
      "[14, 0.060354962944984436, 0.05200210213661194, '00:00']\n",
      "[14, 0.060354962944984436, 0.05200210213661194, '00:00']\n",
      "[15, 0.09511512517929077, 0.06770540028810501, '00:00']\n",
      "[15, 0.09511512517929077, 0.06770540028810501, '00:00']\n",
      "[16, 0.05521547049283981, 0.026697862893342972, '00:00']\n",
      "[16, 0.05521547049283981, 0.026697862893342972, '00:00']\n",
      "[17, 0.07665826380252838, 0.04534216597676277, '00:00']\n",
      "[17, 0.07665826380252838, 0.04534216597676277, '00:00']\n",
      "[18, 0.06377805024385452, 0.17595911026000977, '00:00']\n",
      "[18, 0.06377805024385452, 0.17595911026000977, '00:00']\n",
      "[19, 0.05624701455235481, 0.06134572997689247, '00:00']\n",
      "[19, 0.05624701455235481, 0.06134572997689247, '00:00']\n",
      "[20, 0.07528197765350342, 0.08456994593143463, '00:00']\n",
      "[20, 0.07528197765350342, 0.08456994593143463, '00:00']\n",
      "[21, 0.06480811536312103, 0.05589508265256882, '00:00']\n",
      "[21, 0.06480811536312103, 0.05589508265256882, '00:00']\n",
      "[22, 0.06768221408128738, 0.05242563411593437, '00:00']\n",
      "[22, 0.06768221408128738, 0.05242563411593437, '00:00']\n",
      "[23, 0.07040625065565109, 0.11036577075719833, '00:00']\n",
      "[23, 0.07040625065565109, 0.11036577075719833, '00:00']\n",
      "[24, 0.062366269528865814, 0.029656199738383293, '00:00']\n",
      "[24, 0.062366269528865814, 0.029656199738383293, '00:00']\n",
      "[25, 0.05926278233528137, 0.041936881840229034, '00:00']\n",
      "[25, 0.05926278233528137, 0.041936881840229034, '00:00']\n",
      "[26, 0.07686859369277954, 0.06498623639345169, '00:00']\n",
      "[26, 0.07686859369277954, 0.06498623639345169, '00:00']\n",
      "[27, 0.06653837859630585, 0.04740877076983452, '00:00']\n",
      "[27, 0.06653837859630585, 0.04740877076983452, '00:00']\n",
      "[28, 0.047520384192466736, 0.026305023580789566, '00:00']\n",
      "[28, 0.047520384192466736, 0.026305023580789566, '00:00']\n",
      "[29, 0.060680512338876724, 0.062443699687719345, '00:00']\n",
      "[29, 0.060680512338876724, 0.062443699687719345, '00:00']\n",
      "[30, 0.05713626742362976, 0.06485359370708466, '00:00']\n",
      "[30, 0.05713626742362976, 0.06485359370708466, '00:00']\n",
      "[31, 0.043749500066041946, 0.0474354512989521, '00:00']\n",
      "[31, 0.043749500066041946, 0.0474354512989521, '00:00']\n",
      "[32, 0.09691993147134781, 0.0894392877817154, '00:00']\n",
      "[32, 0.09691993147134781, 0.0894392877817154, '00:00']\n",
      "[33, 0.045345328748226166, 0.029792029410600662, '00:00']\n",
      "[33, 0.045345328748226166, 0.029792029410600662, '00:00']\n",
      "[34, 0.042971838265657425, 0.08843065798282623, '00:00']\n",
      "[34, 0.042971838265657425, 0.08843065798282623, '00:00']\n",
      "[35, 0.04535115137696266, 0.09486702084541321, '00:00']\n",
      "[35, 0.04535115137696266, 0.09486702084541321, '00:00']\n",
      "[36, 0.03666411712765694, 0.02432689629495144, '00:00']\n",
      "[36, 0.03666411712765694, 0.02432689629495144, '00:00']\n",
      "[37, 0.029988577589392662, 0.03194815665483475, '00:00']\n",
      "[37, 0.029988577589392662, 0.03194815665483475, '00:00']\n",
      "[38, 0.05741845443844795, 0.03294442221522331, '00:00']\n",
      "[38, 0.05741845443844795, 0.03294442221522331, '00:00']\n",
      "[39, 0.04344868287444115, 0.0382077619433403, '00:00']\n",
      "[39, 0.04344868287444115, 0.0382077619433403, '00:00']\n",
      "[40, 0.04291567951440811, 0.017276853322982788, '00:00']\n",
      "[40, 0.04291567951440811, 0.017276853322982788, '00:00']\n",
      "[41, 0.022749539464712143, 0.021679004654288292, '00:00']\n",
      "[41, 0.022749539464712143, 0.021679004654288292, '00:00']\n",
      "[42, 0.03154745697975159, 0.030316362157464027, '00:00']\n",
      "[42, 0.03154745697975159, 0.030316362157464027, '00:00']\n",
      "[43, 0.022357583045959473, 0.024069489911198616, '00:00']\n",
      "[43, 0.022357583045959473, 0.024069489911198616, '00:00']\n",
      "[44, 0.03262047469615936, 0.029039524495601654, '00:00']\n",
      "[44, 0.03262047469615936, 0.029039524495601654, '00:00']\n",
      "[45, 0.02721293829381466, 0.09266259521245956, '00:00']\n",
      "[45, 0.02721293829381466, 0.09266259521245956, '00:00']\n",
      "[46, 0.02557598054409027, 0.014899407513439655, '00:00']\n",
      "[46, 0.02557598054409027, 0.014899407513439655, '00:00']\n",
      "[47, 0.020484833046793938, 0.019875966012477875, '00:00']\n",
      "[47, 0.020484833046793938, 0.019875966012477875, '00:00']\n",
      "[48, 0.021764541044831276, 0.02851538546383381, '00:00']\n",
      "[48, 0.021764541044831276, 0.02851538546383381, '00:00']\n",
      "[49, 0.01377110555768013, 0.01217238511890173, '00:00']\n",
      "[49, 0.01377110555768013, 0.01217238511890173, '00:00']\n",
      "[50, 0.015384558588266373, 0.01104755699634552, '00:00']\n",
      "[50, 0.015384558588266373, 0.01104755699634552, '00:00']\n",
      "[51, 0.023494577035307884, 0.020175309851765633, '00:00']\n",
      "[51, 0.023494577035307884, 0.020175309851765633, '00:00']\n",
      "[52, 0.01379570085555315, 0.008145302534103394, '00:00']\n",
      "[52, 0.01379570085555315, 0.008145302534103394, '00:00']\n",
      "[53, 0.02016793191432953, 0.018530499190092087, '00:00']\n",
      "[53, 0.02016793191432953, 0.018530499190092087, '00:00']\n",
      "[54, 0.02348792739212513, 0.01960945501923561, '00:00']\n",
      "[54, 0.02348792739212513, 0.01960945501923561, '00:00']\n",
      "[55, 0.013343251310288906, 0.012021129950881004, '00:00']\n",
      "[55, 0.013343251310288906, 0.012021129950881004, '00:00']\n",
      "[56, 0.009925907477736473, 0.01592603512108326, '00:00']\n",
      "[56, 0.009925907477736473, 0.01592603512108326, '00:00']\n",
      "[57, 0.013196737505495548, 0.02640925534069538, '00:00']\n",
      "[57, 0.013196737505495548, 0.02640925534069538, '00:00']\n",
      "[58, 0.01626528799533844, 0.04193834960460663, '00:00']\n",
      "[58, 0.01626528799533844, 0.04193834960460663, '00:00']\n",
      "[59, 0.012932348996400833, 0.01064053550362587, '00:00']\n",
      "[59, 0.012932348996400833, 0.01064053550362587, '00:00']\n",
      "[60, 0.007242267951369286, 0.00578707829117775, '00:00']\n",
      "[60, 0.007242267951369286, 0.00578707829117775, '00:00']\n",
      "[61, 0.007732850033789873, 0.012888279743492603, '00:00']\n",
      "[61, 0.007732850033789873, 0.012888279743492603, '00:00']\n",
      "[62, 0.011557312682271004, 0.010999539867043495, '00:00']\n",
      "[62, 0.011557312682271004, 0.010999539867043495, '00:00']\n",
      "[63, 0.006674621719866991, 0.005393381230533123, '00:00']\n",
      "[63, 0.006674621719866991, 0.005393381230533123, '00:00']\n",
      "[64, 0.005371045786887407, 0.0045212265104055405, '00:00']\n",
      "[64, 0.005371045786887407, 0.0045212265104055405, '00:00']\n",
      "[65, 0.006536753848195076, 0.007799278944730759, '00:01']\n",
      "[65, 0.006536753848195076, 0.007799278944730759, '00:01']\n",
      "[66, 0.005080756731331348, 0.004949608352035284, '00:00']\n",
      "[66, 0.005080756731331348, 0.004949608352035284, '00:00']\n",
      "[67, 0.004162848927080631, 0.004535890184342861, '00:00']\n",
      "[67, 0.004162848927080631, 0.004535890184342861, '00:00']\n",
      "[68, 0.003723426954820752, 0.005440739449113607, '00:01']\n",
      "[68, 0.003723426954820752, 0.005440739449113607, '00:01']\n",
      "[69, 0.00423450069501996, 0.003974340856075287, '00:01']\n",
      "[69, 0.00423450069501996, 0.003974340856075287, '00:01']\n",
      "[70, 0.003808010136708617, 0.005149129778146744, '00:01']\n",
      "[70, 0.003808010136708617, 0.005149129778146744, '00:01']\n",
      "[71, 0.002802741713821888, 0.0024295831099152565, '00:01']\n",
      "[71, 0.002802741713821888, 0.0024295831099152565, '00:01']\n",
      "[72, 0.0022510674316436052, 0.0033382424153387547, '00:00']\n",
      "[72, 0.0022510674316436052, 0.0033382424153387547, '00:00']\n"
     ]
    },
    {
     "name": "stdout",
     "output_type": "stream",
     "text": [
      "[73, 0.0025087406393140554, 0.0026123900897800922, '00:00']\n",
      "[73, 0.0025087406393140554, 0.0026123900897800922, '00:00']\n",
      "[74, 0.0021376253571361303, 0.0027129752561450005, '00:00']\n",
      "[74, 0.0021376253571361303, 0.0027129752561450005, '00:00']\n",
      "[75, 0.0020338832400739193, 0.0024819315876811743, '00:00']\n",
      "[75, 0.0020338832400739193, 0.0024819315876811743, '00:00']\n",
      "[76, 0.0024531856179237366, 0.0027326063718646765, '00:00']\n",
      "[76, 0.0024531856179237366, 0.0027326063718646765, '00:00']\n",
      "[77, 0.0018023466691374779, 0.0016368087381124496, '00:00']\n",
      "[77, 0.0018023466691374779, 0.0016368087381124496, '00:00']\n",
      "[78, 0.0012845443561673164, 0.002091116737574339, '00:00']\n",
      "[78, 0.0012845443561673164, 0.002091116737574339, '00:00']\n",
      "[79, 0.0012429978232830763, 0.001683094073086977, '00:00']\n",
      "[79, 0.0012429978232830763, 0.001683094073086977, '00:00']\n",
      "[80, 0.0011620746226981282, 0.0013638766249641776, '00:00']\n",
      "[80, 0.0011620746226981282, 0.0013638766249641776, '00:00']\n",
      "[81, 0.00109263660851866, 0.0014716711593791842, '00:00']\n",
      "[81, 0.00109263660851866, 0.0014716711593791842, '00:00']\n",
      "[82, 0.0010023466311395168, 0.001534587237983942, '00:00']\n",
      "[82, 0.0010023466311395168, 0.001534587237983942, '00:00']\n",
      "[83, 0.0010468426626175642, 0.0014501350233331323, '00:00']\n",
      "[83, 0.0010468426626175642, 0.0014501350233331323, '00:00']\n",
      "[84, 0.0008255664724856615, 0.001184847205877304, '00:00']\n",
      "[84, 0.0008255664724856615, 0.001184847205877304, '00:00']\n",
      "[85, 0.0007280608988367021, 0.001246682251803577, '00:00']\n",
      "[85, 0.0007280608988367021, 0.001246682251803577, '00:00']\n",
      "[86, 0.0006359893013723195, 0.0009439426357857883, '00:00']\n",
      "[86, 0.0006359893013723195, 0.0009439426357857883, '00:00']\n",
      "[87, 0.0006090536480769515, 0.0009211000287905335, '00:00']\n",
      "[87, 0.0006090536480769515, 0.0009211000287905335, '00:00']\n",
      "[88, 0.0006217474583536386, 0.0009150310070253909, '00:00']\n",
      "[88, 0.0006217474583536386, 0.0009150310070253909, '00:00']\n",
      "[89, 0.0006106667569838464, 0.0009898917051032186, '00:00']\n",
      "[89, 0.0006106667569838464, 0.0009898917051032186, '00:00']\n",
      "[90, 0.0006417451077140868, 0.0009369744802825153, '00:00']\n",
      "[90, 0.0006417451077140868, 0.0009369744802825153, '00:00']\n",
      "[91, 0.0005362085648812354, 0.0008235815330408514, '00:00']\n",
      "[91, 0.0005362085648812354, 0.0008235815330408514, '00:00']\n",
      "[92, 0.00048278833855874836, 0.0008470597094856203, '00:00']\n",
      "[92, 0.00048278833855874836, 0.0008470597094856203, '00:00']\n",
      "[93, 0.0005604899488389492, 0.0008025051793083549, '00:00']\n",
      "[93, 0.0005604899488389492, 0.0008025051793083549, '00:00']\n",
      "[94, 0.0004942599916830659, 0.0008116852259263396, '00:00']\n",
      "[94, 0.0004942599916830659, 0.0008116852259263396, '00:00']\n",
      "[95, 0.00044391711708158255, 0.0007891537970863283, '00:00']\n",
      "[95, 0.00044391711708158255, 0.0007891537970863283, '00:00']\n",
      "[96, 0.00047473638551309705, 0.0007772012031637132, '00:00']\n",
      "[96, 0.00047473638551309705, 0.0007772012031637132, '00:00']\n",
      "[97, 0.0004796828725375235, 0.0007773436373099685, '00:00']\n",
      "[97, 0.0004796828725375235, 0.0007773436373099685, '00:00']\n",
      "[98, 0.0005160029977560043, 0.0007734866812825203, '00:00']\n",
      "[98, 0.0005160029977560043, 0.0007734866812825203, '00:00']\n",
      "[99, 0.00042029254836961627, 0.000772654777392745, '00:00']\n",
      "[99, 0.00042029254836961627, 0.000772654777392745, '00:00']\n",
      "Training took 62.36953297800028 seconds\n"
     ]
    }
   ],
   "source": [
    "# Using lr_min as learning rate\n",
    "import time\n",
    "\n",
    "start = time.perf_counter() # Starts timer\n",
    "learn.fit_one_cycle(100, lr_min)\n",
    "end = time.perf_counter() # Ends timer\n",
    "delta_t = end - start\n",
    "print('Training took', delta_t, 'seconds')"
   ]
  },
  {
   "cell_type": "markdown",
   "id": "alike-recall",
   "metadata": {},
   "source": [
    "Here is a depiction of the loss function as it progresses through the batches and epochs of the training dataset and validates the model."
   ]
  },
  {
   "cell_type": "code",
   "execution_count": 28,
   "id": "ultimate-peeing",
   "metadata": {
    "scrolled": true
   },
   "outputs": [
    {
     "data": {
      "image/png": "[encoded data removed]",
      "text/plain": [
       "<Figure size 432x288 with 1 Axes>"
      ]
     },
     "metadata": {
      "needs_background": "light"
     },
     "output_type": "display_data"
    }
   ],
   "source": [
    "recorder.plot_loss()"
   ]
  },
  {
   "cell_type": "markdown",
   "id": "accessible-chain",
   "metadata": {},
   "source": [
    "Finally, we compute the MSE loss."
   ]
  },
  {
   "cell_type": "code",
   "execution_count": 29,
   "id": "hollow-vietnamese",
   "metadata": {},
   "outputs": [
    {
     "data": {
      "text/plain": [
       "(#1) [0.000772654777392745]"
      ]
     },
     "execution_count": 29,
     "metadata": {},
     "output_type": "execute_result"
    }
   ],
   "source": [
    "learn.validate()"
   ]
  },
  {
   "cell_type": "markdown",
   "id": "ordered-orlando",
   "metadata": {},
   "source": [
    "0.08% - that should be good enough."
   ]
  },
  {
   "cell_type": "markdown",
   "id": "established-senate",
   "metadata": {},
   "source": [
    "## Plotting data"
   ]
  },
  {
   "cell_type": "markdown",
   "id": "infinite-toyota",
   "metadata": {},
   "source": [
    "Setting directory for saving outputs."
   ]
  },
  {
   "cell_type": "code",
   "execution_count": 30,
   "id": "powerful-silicon",
   "metadata": {},
   "outputs": [],
   "source": [
    "import os\n",
    "save_dir = \"plotOutput\"\n",
    "if not os.path.exists(save_dir):\n",
    "    os.makedirs(save_dir)"
   ]
  },
  {
   "cell_type": "markdown",
   "id": "existing-grade",
   "metadata": {},
   "source": [
    "Plotting histograms of the training and validation for 20000 events."
   ]
  },
  {
   "cell_type": "code",
   "execution_count": 59,
   "id": "sticky-omega",
   "metadata": {},
   "outputs": [
    {
     "data": {
      "image/png": "[encoded data removed]",
      "text/plain": [
       "<Figure size 432x288 with 1 Axes>"
      ]
     },
     "metadata": {
      "needs_background": "light"
     },
     "output_type": "display_data"
    },
    {
     "data": {
      "image/png": "[encoded data removed]",
      "text/plain": [
       "<Figure size 432x288 with 1 Axes>"
      ]
     },
     "metadata": {
      "needs_background": "light"
     },
     "output_type": "display_data"
    },
    {
     "data": {
      "image/png": "[encoded data removed]",
      "text/plain": [
       "<Figure size 432x288 with 1 Axes>"
      ]
     },
     "metadata": {
      "needs_background": "light"
     },
     "output_type": "display_data"
    },
    {
     "data": {
      "image/png": "[encoded data removed]",
      "text/plain": [
       "<Figure size 432x288 with 1 Axes>"
      ]
     },
     "metadata": {
      "needs_background": "light"
     },
     "output_type": "display_data"
    }
   ],
   "source": [
    "import numpy as np\n",
    "\n",
    "plt.close('all')\n",
    "line_style = ['--', '-']\n",
    "markers = ['*', 's']\n",
    "\n",
    "model.to('cpu')\n",
    "\n",
    "save = True\n",
    "\n",
    "# Histograms\n",
    "idxs = (0, 20000)  # Choose events to compare\n",
    "data = torch.tensor(test[idxs[0]:idxs[1]].values, dtype=torch.float)\n",
    "pred = model(data)\n",
    "pred = pred.detach().numpy()\n",
    "data = data.detach().numpy()\n",
    "\n",
    "data_df = pd.DataFrame(data, columns=test.columns)\n",
    "pred_df = pd.DataFrame(pred, columns=test.columns)   \n",
    "\n",
    "n_bins = 120\n",
    "for kk in np.arange(4):\n",
    "    plt.figure()\n",
    "    n_hist_data, bin_edges, _ = plt.hist(data[:, kk], color='c', label='Input', alpha=1, bins=n_bins)\n",
    "    n_hist_pred, _, _ = plt.hist(pred[:, kk], color='orange', label='Output', alpha=0.5, bins=bin_edges)\n",
    "    plt.suptitle(test.columns[kk])\n",
    "    plt.xlabel(test.columns[kk])\n",
    "    plt.ylabel('No. of events')\n",
    "    plt.yscale('log')\n",
    "    if save:\n",
    "        plt.savefig(os.path.join(save_dir,test.columns[kk]+'.png'))\n",
    "    plt.legend()\n",
    "\n"
   ]
  }
 ],
 "metadata": {
  "kernelspec": {
   "display_name": "Python 3",
   "language": "python",
   "name": "python3"
  },
  "language_info": {
   "codemirror_mode": {
    "name": "ipython",
    "version": 3
   },
   "file_extension": ".py",
   "mimetype": "text/x-python",
   "name": "python",
   "nbconvert_exporter": "python",
   "pygments_lexer": "ipython3",
   "version": "3.8.5"
  }
 },
 "nbformat": 4,
 "nbformat_minor": 5
}
