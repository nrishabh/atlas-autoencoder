{
 "cells": [
  {
   "cell_type": "markdown",
   "id": "second-awareness",
   "metadata": {},
   "source": [
    "# Implementing an autoencoder for ATLAS "
   ]
  },
  {
   "cell_type": "markdown",
   "id": "polished-expression",
   "metadata": {},
   "source": [
    "An autoencoder neural network was used to compress the four-momentum of a sample of simulated particles from 4 to 3 variables.\n",
    "\n",
    "This was an evaluation task by the maintainers of the ATLAS project at CERN."
   ]
  },
  {
   "cell_type": "code",
   "execution_count": 1,
   "id": "living-convergence",
   "metadata": {},
   "outputs": [
    {
     "data": {
      "text/plain": [
       "'3.8.5 (default, Jan 27 2021, 15:41:15) \\n[GCC 9.3.0]'"
      ]
     },
     "execution_count": 1,
     "metadata": {},
     "output_type": "execute_result"
    }
   ],
   "source": [
    "import sys\n",
    "sys.version"
   ]
  },
  {
   "cell_type": "markdown",
   "id": "iraqi-basics",
   "metadata": {},
   "source": [
    "## Importing the dataset and discarding irrelevant fields"
   ]
  },
  {
   "cell_type": "markdown",
   "id": "conventional-brunswick",
   "metadata": {},
   "source": [
    "Two interesting properties of the given CSV file:\n",
    "1. Empty fields are not specified by separators at the end of the line.\n",
    "2. Two kinds of delimiters used - semicolon (;) and comma (,).\n",
    "\n",
    "Both the issues were ironed out using python's built-in CSV engine. To avoid typecasting every field, a new 'clean' CSV file was created, which was imported using pandas and hence, all the fields were allocated appropriate data types by pandas automatically."
   ]
  },
  {
   "cell_type": "code",
   "execution_count": 2,
   "id": "major-conditioning",
   "metadata": {
    "scrolled": true
   },
   "outputs": [],
   "source": [
    "import csv\n",
    "\n",
    "temp_data = []\n",
    "d = []\n",
    "\n",
    "with open('dataset.csv') as csvfile:\n",
    "    # Here, lines are split by semicolon\n",
    "    areader = csv.reader(csvfile, delimiter = ';')\n",
    "    \n",
    "    # This code splits the fields that contain a comma\n",
    "    for row in areader:\n",
    "        temp = list()\n",
    "        for element in row:\n",
    "            if ',' in element:\n",
    "                a = element.split(',')\n",
    "                temp = temp+a\n",
    "            else:\n",
    "                temp.append(element)\n",
    "        temp_data.append(temp)\n",
    "                \n",
    "    # Find out max no. of columns\n",
    "    max_elems = 0\n",
    "    for row in temp_data:\n",
    "        if max_elems < len(row):\n",
    "            max_elems = len(row)\n",
    "        \n",
    "    csvfile.seek(0)\n",
    "    \n",
    "    # Add separators for empty fields by padding the rows\n",
    "    for i, row in enumerate(temp_data):         \n",
    "        d.append(row + [\"\" for x in range(max_elems-len(row))])\n",
    "\n",
    "# Write to a new CSV file\n",
    "with open ('new_dataset.csv', 'w') as csvfile:\n",
    "    writer = csv.writer(csvfile)\n",
    "    writer.writerows(d)"
   ]
  },
  {
   "cell_type": "code",
   "execution_count": 3,
   "id": "welcome-bracelet",
   "metadata": {
    "scrolled": true
   },
   "outputs": [
    {
     "data": {
      "text/html": [
       "<div>\n",
       "<style scoped>\n",
       "    .dataframe tbody tr th:only-of-type {\n",
       "        vertical-align: middle;\n",
       "    }\n",
       "\n",
       "    .dataframe tbody tr th {\n",
       "        vertical-align: top;\n",
       "    }\n",
       "\n",
       "    .dataframe thead th {\n",
       "        text-align: right;\n",
       "    }\n",
       "</style>\n",
       "<table border=\"1\" class=\"dataframe\">\n",
       "  <thead>\n",
       "    <tr style=\"text-align: right;\">\n",
       "      <th></th>\n",
       "      <th>0</th>\n",
       "      <th>1</th>\n",
       "      <th>2</th>\n",
       "      <th>3</th>\n",
       "      <th>4</th>\n",
       "      <th>5</th>\n",
       "      <th>6</th>\n",
       "      <th>7</th>\n",
       "      <th>8</th>\n",
       "      <th>9</th>\n",
       "      <th>...</th>\n",
       "      <th>56</th>\n",
       "      <th>57</th>\n",
       "      <th>58</th>\n",
       "      <th>59</th>\n",
       "      <th>60</th>\n",
       "      <th>61</th>\n",
       "      <th>62</th>\n",
       "      <th>63</th>\n",
       "      <th>64</th>\n",
       "      <th>65</th>\n",
       "    </tr>\n",
       "  </thead>\n",
       "  <tbody>\n",
       "    <tr>\n",
       "      <th>0</th>\n",
       "      <td>354</td>\n",
       "      <td>monojet_Zp2000.0_DM_50.0</td>\n",
       "      <td>0.000024</td>\n",
       "      <td>832841.0</td>\n",
       "      <td>-1.224310</td>\n",
       "      <td>b</td>\n",
       "      <td>947383.0</td>\n",
       "      <td>824498.0</td>\n",
       "      <td>-0.523103</td>\n",
       "      <td>1.644210</td>\n",
       "      <td>...</td>\n",
       "      <td>NaN</td>\n",
       "      <td>NaN</td>\n",
       "      <td>NaN</td>\n",
       "      <td>NaN</td>\n",
       "      <td>NaN</td>\n",
       "      <td>NaN</td>\n",
       "      <td>NaN</td>\n",
       "      <td>NaN</td>\n",
       "      <td>NaN</td>\n",
       "      <td>NaN</td>\n",
       "    </tr>\n",
       "    <tr>\n",
       "      <th>1</th>\n",
       "      <td>354</td>\n",
       "      <td>monojet_Zp2000.0_DM_50.0</td>\n",
       "      <td>0.000024</td>\n",
       "      <td>732115.0</td>\n",
       "      <td>1.172450</td>\n",
       "      <td>j</td>\n",
       "      <td>1069460.0</td>\n",
       "      <td>751597.0</td>\n",
       "      <td>0.858186</td>\n",
       "      <td>-1.842170</td>\n",
       "      <td>...</td>\n",
       "      <td>NaN</td>\n",
       "      <td>NaN</td>\n",
       "      <td>NaN</td>\n",
       "      <td>NaN</td>\n",
       "      <td>NaN</td>\n",
       "      <td>NaN</td>\n",
       "      <td>NaN</td>\n",
       "      <td>NaN</td>\n",
       "      <td>NaN</td>\n",
       "      <td>NaN</td>\n",
       "    </tr>\n",
       "    <tr>\n",
       "      <th>2</th>\n",
       "      <td>354</td>\n",
       "      <td>monojet_Zp2000.0_DM_50.0</td>\n",
       "      <td>0.000024</td>\n",
       "      <td>1056280.0</td>\n",
       "      <td>-3.067440</td>\n",
       "      <td>j</td>\n",
       "      <td>676000.0</td>\n",
       "      <td>640429.0</td>\n",
       "      <td>0.330450</td>\n",
       "      <td>0.704554</td>\n",
       "      <td>...</td>\n",
       "      <td>NaN</td>\n",
       "      <td>NaN</td>\n",
       "      <td>NaN</td>\n",
       "      <td>NaN</td>\n",
       "      <td>NaN</td>\n",
       "      <td>NaN</td>\n",
       "      <td>NaN</td>\n",
       "      <td>NaN</td>\n",
       "      <td>NaN</td>\n",
       "      <td>NaN</td>\n",
       "    </tr>\n",
       "    <tr>\n",
       "      <th>3</th>\n",
       "      <td>354</td>\n",
       "      <td>monojet_Zp2000.0_DM_50.0</td>\n",
       "      <td>0.000024</td>\n",
       "      <td>631781.0</td>\n",
       "      <td>1.641810</td>\n",
       "      <td>j</td>\n",
       "      <td>936707.0</td>\n",
       "      <td>616229.0</td>\n",
       "      <td>0.973383</td>\n",
       "      <td>-1.565920</td>\n",
       "      <td>...</td>\n",
       "      <td>NaN</td>\n",
       "      <td>NaN</td>\n",
       "      <td>NaN</td>\n",
       "      <td>NaN</td>\n",
       "      <td>NaN</td>\n",
       "      <td>NaN</td>\n",
       "      <td>NaN</td>\n",
       "      <td>NaN</td>\n",
       "      <td>NaN</td>\n",
       "      <td>NaN</td>\n",
       "    </tr>\n",
       "    <tr>\n",
       "      <th>4</th>\n",
       "      <td>354</td>\n",
       "      <td>monojet_Zp2000.0_DM_50.0</td>\n",
       "      <td>0.000024</td>\n",
       "      <td>457316.0</td>\n",
       "      <td>-1.875360</td>\n",
       "      <td>j</td>\n",
       "      <td>640313.0</td>\n",
       "      <td>589524.0</td>\n",
       "      <td>0.390749</td>\n",
       "      <td>1.237340</td>\n",
       "      <td>...</td>\n",
       "      <td>NaN</td>\n",
       "      <td>NaN</td>\n",
       "      <td>NaN</td>\n",
       "      <td>NaN</td>\n",
       "      <td>NaN</td>\n",
       "      <td>NaN</td>\n",
       "      <td>NaN</td>\n",
       "      <td>NaN</td>\n",
       "      <td>NaN</td>\n",
       "      <td>NaN</td>\n",
       "    </tr>\n",
       "    <tr>\n",
       "      <th>...</th>\n",
       "      <td>...</td>\n",
       "      <td>...</td>\n",
       "      <td>...</td>\n",
       "      <td>...</td>\n",
       "      <td>...</td>\n",
       "      <td>...</td>\n",
       "      <td>...</td>\n",
       "      <td>...</td>\n",
       "      <td>...</td>\n",
       "      <td>...</td>\n",
       "      <td>...</td>\n",
       "      <td>...</td>\n",
       "      <td>...</td>\n",
       "      <td>...</td>\n",
       "      <td>...</td>\n",
       "      <td>...</td>\n",
       "      <td>...</td>\n",
       "      <td>...</td>\n",
       "      <td>...</td>\n",
       "      <td>...</td>\n",
       "      <td>...</td>\n",
       "    </tr>\n",
       "    <tr>\n",
       "      <th>6394</th>\n",
       "      <td>354</td>\n",
       "      <td>monojet_Zp2000.0_DM_50.0</td>\n",
       "      <td>0.000024</td>\n",
       "      <td>914355.0</td>\n",
       "      <td>1.529030</td>\n",
       "      <td>j</td>\n",
       "      <td>1119940.0</td>\n",
       "      <td>1012690.0</td>\n",
       "      <td>0.453265</td>\n",
       "      <td>-1.772780</td>\n",
       "      <td>...</td>\n",
       "      <td>NaN</td>\n",
       "      <td>NaN</td>\n",
       "      <td>NaN</td>\n",
       "      <td>NaN</td>\n",
       "      <td>NaN</td>\n",
       "      <td>NaN</td>\n",
       "      <td>NaN</td>\n",
       "      <td>NaN</td>\n",
       "      <td>NaN</td>\n",
       "      <td>NaN</td>\n",
       "    </tr>\n",
       "    <tr>\n",
       "      <th>6395</th>\n",
       "      <td>354</td>\n",
       "      <td>monojet_Zp2000.0_DM_50.0</td>\n",
       "      <td>0.000024</td>\n",
       "      <td>782256.0</td>\n",
       "      <td>-1.207510</td>\n",
       "      <td>j</td>\n",
       "      <td>1915090.0</td>\n",
       "      <td>874869.0</td>\n",
       "      <td>1.418550</td>\n",
       "      <td>1.839270</td>\n",
       "      <td>...</td>\n",
       "      <td>NaN</td>\n",
       "      <td>NaN</td>\n",
       "      <td>NaN</td>\n",
       "      <td>NaN</td>\n",
       "      <td>NaN</td>\n",
       "      <td>NaN</td>\n",
       "      <td>NaN</td>\n",
       "      <td>NaN</td>\n",
       "      <td>NaN</td>\n",
       "      <td>NaN</td>\n",
       "    </tr>\n",
       "    <tr>\n",
       "      <th>6396</th>\n",
       "      <td>354</td>\n",
       "      <td>monojet_Zp2000.0_DM_50.0</td>\n",
       "      <td>0.000024</td>\n",
       "      <td>645619.0</td>\n",
       "      <td>-2.483990</td>\n",
       "      <td>j</td>\n",
       "      <td>787964.0</td>\n",
       "      <td>263158.0</td>\n",
       "      <td>1.759810</td>\n",
       "      <td>0.456786</td>\n",
       "      <td>...</td>\n",
       "      <td>NaN</td>\n",
       "      <td>NaN</td>\n",
       "      <td>NaN</td>\n",
       "      <td>NaN</td>\n",
       "      <td>NaN</td>\n",
       "      <td>NaN</td>\n",
       "      <td>NaN</td>\n",
       "      <td>NaN</td>\n",
       "      <td>NaN</td>\n",
       "      <td>NaN</td>\n",
       "    </tr>\n",
       "    <tr>\n",
       "      <th>6397</th>\n",
       "      <td>354</td>\n",
       "      <td>monojet_Zp2000.0_DM_50.0</td>\n",
       "      <td>0.000024</td>\n",
       "      <td>632390.0</td>\n",
       "      <td>-0.975687</td>\n",
       "      <td>j</td>\n",
       "      <td>731849.0</td>\n",
       "      <td>722541.0</td>\n",
       "      <td>-0.134499</td>\n",
       "      <td>2.563930</td>\n",
       "      <td>...</td>\n",
       "      <td>NaN</td>\n",
       "      <td>NaN</td>\n",
       "      <td>NaN</td>\n",
       "      <td>NaN</td>\n",
       "      <td>NaN</td>\n",
       "      <td>NaN</td>\n",
       "      <td>NaN</td>\n",
       "      <td>NaN</td>\n",
       "      <td>NaN</td>\n",
       "      <td>NaN</td>\n",
       "    </tr>\n",
       "    <tr>\n",
       "      <th>6398</th>\n",
       "      <td>354</td>\n",
       "      <td>monojet_Zp2000.0_DM_50.0</td>\n",
       "      <td>0.000024</td>\n",
       "      <td>820060.0</td>\n",
       "      <td>-0.043785</td>\n",
       "      <td>j</td>\n",
       "      <td>893689.0</td>\n",
       "      <td>742040.0</td>\n",
       "      <td>-0.618057</td>\n",
       "      <td>-3.104660</td>\n",
       "      <td>...</td>\n",
       "      <td>NaN</td>\n",
       "      <td>NaN</td>\n",
       "      <td>NaN</td>\n",
       "      <td>NaN</td>\n",
       "      <td>NaN</td>\n",
       "      <td>NaN</td>\n",
       "      <td>NaN</td>\n",
       "      <td>NaN</td>\n",
       "      <td>NaN</td>\n",
       "      <td>NaN</td>\n",
       "    </tr>\n",
       "  </tbody>\n",
       "</table>\n",
       "<p>6399 rows × 66 columns</p>\n",
       "</div>"
      ],
      "text/plain": [
       "       0                         1         2          3         4  5   \\\n",
       "0     354  monojet_Zp2000.0_DM_50.0  0.000024   832841.0 -1.224310  b   \n",
       "1     354  monojet_Zp2000.0_DM_50.0  0.000024   732115.0  1.172450  j   \n",
       "2     354  monojet_Zp2000.0_DM_50.0  0.000024  1056280.0 -3.067440  j   \n",
       "3     354  monojet_Zp2000.0_DM_50.0  0.000024   631781.0  1.641810  j   \n",
       "4     354  monojet_Zp2000.0_DM_50.0  0.000024   457316.0 -1.875360  j   \n",
       "...   ...                       ...       ...        ...       ... ..   \n",
       "6394  354  monojet_Zp2000.0_DM_50.0  0.000024   914355.0  1.529030  j   \n",
       "6395  354  monojet_Zp2000.0_DM_50.0  0.000024   782256.0 -1.207510  j   \n",
       "6396  354  monojet_Zp2000.0_DM_50.0  0.000024   645619.0 -2.483990  j   \n",
       "6397  354  monojet_Zp2000.0_DM_50.0  0.000024   632390.0 -0.975687  j   \n",
       "6398  354  monojet_Zp2000.0_DM_50.0  0.000024   820060.0 -0.043785  j   \n",
       "\n",
       "             6          7         8         9   ...  56  57  58  59   60  61  \\\n",
       "0      947383.0   824498.0 -0.523103  1.644210  ... NaN NaN NaN NaN  NaN NaN   \n",
       "1     1069460.0   751597.0  0.858186 -1.842170  ... NaN NaN NaN NaN  NaN NaN   \n",
       "2      676000.0   640429.0  0.330450  0.704554  ... NaN NaN NaN NaN  NaN NaN   \n",
       "3      936707.0   616229.0  0.973383 -1.565920  ... NaN NaN NaN NaN  NaN NaN   \n",
       "4      640313.0   589524.0  0.390749  1.237340  ... NaN NaN NaN NaN  NaN NaN   \n",
       "...         ...        ...       ...       ...  ...  ..  ..  ..  ..  ...  ..   \n",
       "6394  1119940.0  1012690.0  0.453265 -1.772780  ... NaN NaN NaN NaN  NaN NaN   \n",
       "6395  1915090.0   874869.0  1.418550  1.839270  ... NaN NaN NaN NaN  NaN NaN   \n",
       "6396   787964.0   263158.0  1.759810  0.456786  ... NaN NaN NaN NaN  NaN NaN   \n",
       "6397   731849.0   722541.0 -0.134499  2.563930  ... NaN NaN NaN NaN  NaN NaN   \n",
       "6398   893689.0   742040.0 -0.618057 -3.104660  ... NaN NaN NaN NaN  NaN NaN   \n",
       "\n",
       "      62  63  64  65  \n",
       "0    NaN NaN NaN NaN  \n",
       "1    NaN NaN NaN NaN  \n",
       "2    NaN NaN NaN NaN  \n",
       "3    NaN NaN NaN NaN  \n",
       "4    NaN NaN NaN NaN  \n",
       "...   ..  ..  ..  ..  \n",
       "6394 NaN NaN NaN NaN  \n",
       "6395 NaN NaN NaN NaN  \n",
       "6396 NaN NaN NaN NaN  \n",
       "6397 NaN NaN NaN NaN  \n",
       "6398 NaN NaN NaN NaN  \n",
       "\n",
       "[6399 rows x 66 columns]"
      ]
     },
     "execution_count": 3,
     "metadata": {},
     "output_type": "execute_result"
    }
   ],
   "source": [
    "import pandas as pd\n",
    "temp_df = pd.read_csv('new_dataset.csv', header=None)\n",
    "temp_df"
   ]
  },
  {
   "cell_type": "markdown",
   "id": "fundamental-richmond",
   "metadata": {},
   "source": [
    "From the dataset, we can disregard the first five columns, which correspond to the event details. Beginning from the sixth column, we see a set of 5 fields that correspond to the type of object and its four momentum. There are in total 65 fields, which implies that an event may have resulted in up to 12 objects to be detected.\n",
    "\n",
    "Our aim is to work on the four momentum of only jet object (id='j'). To do that we create an empty dataframe of four columns (E, pt, eta, phi), which will be used to note down the values of the four momentum. We begin by looking for jet objects in every object detected for all events. For every jet object that is found, we add the values of its four momentum to the dataframe we created."
   ]
  },
  {
   "cell_type": "code",
   "execution_count": 4,
   "id": "conscious-today",
   "metadata": {},
   "outputs": [],
   "source": [
    "df = pd.DataFrame(columns = ['E','pt','eta','phi'])\n",
    "count = 0\n",
    "for l in range(len(temp_df)):\n",
    "    for i in range(5,61,5):\n",
    "        if temp_df.iloc[l,i] == 'j':\n",
    "            df.loc[count] = [temp_df.iloc[l,i+1],temp_df.iloc[l,i+2],temp_df.iloc[l,i+3],temp_df.iloc[l,i+4]]\n",
    "            count += 1"
   ]
  },
  {
   "cell_type": "code",
   "execution_count": 5,
   "id": "residential-condition",
   "metadata": {},
   "outputs": [
    {
     "name": "stdout",
     "output_type": "stream",
     "text": [
      "Column name: E\n",
      "Max: 4413680.0\n",
      "Min: 24375.8\n",
      "\n",
      "\n",
      "Column name: pt\n",
      "Max: 2090860.0\n",
      "Min: 22086.5\n",
      "\n",
      "\n",
      "Column name: eta\n",
      "Max: 4.75308\n",
      "Min: -4.87011\n",
      "\n",
      "\n",
      "Column name: phi\n",
      "Max: 3.14121\n",
      "Min: -3.14156\n",
      "\n",
      "\n"
     ]
    }
   ],
   "source": [
    "for i in df:\n",
    "    print(\"Column name: \"+str(i))\n",
    "    print(\"Max: \"+str(max(df[i])))\n",
    "    print(\"Min: \"+str(min(df[i])))\n",
    "    print(\"\\n\")"
   ]
  },
  {
   "cell_type": "markdown",
   "id": "prospective-space",
   "metadata": {},
   "source": [
    "We can see that the columns 'E' and 'pt' have data ranging from 10^5 to 10^7 while columns 'eta' and 'phi' have data ranging from 10^0 to 10^1. To make sure that our model trains well, we need to make sure the range of all our columns are close. Hence, we will divide columns 'E' and 'pt' by 10^5 and change their names to describe the conversion."
   ]
  },
  {
   "cell_type": "code",
   "execution_count": 6,
   "id": "mounted-whale",
   "metadata": {},
   "outputs": [
    {
     "data": {
      "text/html": [
       "<div>\n",
       "<style scoped>\n",
       "    .dataframe tbody tr th:only-of-type {\n",
       "        vertical-align: middle;\n",
       "    }\n",
       "\n",
       "    .dataframe tbody tr th {\n",
       "        vertical-align: top;\n",
       "    }\n",
       "\n",
       "    .dataframe thead th {\n",
       "        text-align: right;\n",
       "    }\n",
       "</style>\n",
       "<table border=\"1\" class=\"dataframe\">\n",
       "  <thead>\n",
       "    <tr style=\"text-align: right;\">\n",
       "      <th></th>\n",
       "      <th>E (10^5)</th>\n",
       "      <th>pt (10^5)</th>\n",
       "      <th>eta</th>\n",
       "      <th>phi</th>\n",
       "    </tr>\n",
       "  </thead>\n",
       "  <tbody>\n",
       "    <tr>\n",
       "      <th>0</th>\n",
       "      <td>2.587220</td>\n",
       "      <td>2.436750</td>\n",
       "      <td>0.328962</td>\n",
       "      <td>2.250140</td>\n",
       "    </tr>\n",
       "    <tr>\n",
       "      <th>1</th>\n",
       "      <td>5.200920</td>\n",
       "      <td>1.085900</td>\n",
       "      <td>-2.247300</td>\n",
       "      <td>-1.856790</td>\n",
       "    </tr>\n",
       "    <tr>\n",
       "      <th>2</th>\n",
       "      <td>3.830240</td>\n",
       "      <td>0.884056</td>\n",
       "      <td>2.145160</td>\n",
       "      <td>-1.956350</td>\n",
       "    </tr>\n",
       "    <tr>\n",
       "      <th>3</th>\n",
       "      <td>0.395076</td>\n",
       "      <td>0.353651</td>\n",
       "      <td>0.470460</td>\n",
       "      <td>-1.164450</td>\n",
       "    </tr>\n",
       "    <tr>\n",
       "      <th>4</th>\n",
       "      <td>2.254300</td>\n",
       "      <td>0.268782</td>\n",
       "      <td>-2.816080</td>\n",
       "      <td>-2.259380</td>\n",
       "    </tr>\n",
       "    <tr>\n",
       "      <th>...</th>\n",
       "      <td>...</td>\n",
       "      <td>...</td>\n",
       "      <td>...</td>\n",
       "      <td>...</td>\n",
       "    </tr>\n",
       "    <tr>\n",
       "      <th>22656</th>\n",
       "      <td>7.318490</td>\n",
       "      <td>7.225410</td>\n",
       "      <td>-0.134499</td>\n",
       "      <td>2.563930</td>\n",
       "    </tr>\n",
       "    <tr>\n",
       "      <th>22657</th>\n",
       "      <td>2.688280</td>\n",
       "      <td>2.591440</td>\n",
       "      <td>0.153813</td>\n",
       "      <td>0.578428</td>\n",
       "    </tr>\n",
       "    <tr>\n",
       "      <th>22658</th>\n",
       "      <td>1.533400</td>\n",
       "      <td>0.439315</td>\n",
       "      <td>1.920140</td>\n",
       "      <td>-0.237382</td>\n",
       "    </tr>\n",
       "    <tr>\n",
       "      <th>22659</th>\n",
       "      <td>8.936890</td>\n",
       "      <td>7.420400</td>\n",
       "      <td>-0.618057</td>\n",
       "      <td>-3.104660</td>\n",
       "    </tr>\n",
       "    <tr>\n",
       "      <th>22660</th>\n",
       "      <td>1.075260</td>\n",
       "      <td>1.069950</td>\n",
       "      <td>-0.048565</td>\n",
       "      <td>2.436060</td>\n",
       "    </tr>\n",
       "  </tbody>\n",
       "</table>\n",
       "<p>22661 rows × 4 columns</p>\n",
       "</div>"
      ],
      "text/plain": [
       "       E (10^5)  pt (10^5)       eta       phi\n",
       "0      2.587220   2.436750  0.328962  2.250140\n",
       "1      5.200920   1.085900 -2.247300 -1.856790\n",
       "2      3.830240   0.884056  2.145160 -1.956350\n",
       "3      0.395076   0.353651  0.470460 -1.164450\n",
       "4      2.254300   0.268782 -2.816080 -2.259380\n",
       "...         ...        ...       ...       ...\n",
       "22656  7.318490   7.225410 -0.134499  2.563930\n",
       "22657  2.688280   2.591440  0.153813  0.578428\n",
       "22658  1.533400   0.439315  1.920140 -0.237382\n",
       "22659  8.936890   7.420400 -0.618057 -3.104660\n",
       "22660  1.075260   1.069950 -0.048565  2.436060\n",
       "\n",
       "[22661 rows x 4 columns]"
      ]
     },
     "execution_count": 6,
     "metadata": {},
     "output_type": "execute_result"
    }
   ],
   "source": [
    "df['E'] = df['E']/100000\n",
    "df['pt'] = df['pt']/100000\n",
    "df.rename(columns={\"E\": \"E (10^5)\", \"pt\": \"pt (10^5)\"}, inplace = True)\n",
    "df"
   ]
  },
  {
   "cell_type": "code",
   "execution_count": 7,
   "id": "portable-society",
   "metadata": {},
   "outputs": [],
   "source": [
    "# Splitting data into training and validation of ratio 75:25 randomly.\n",
    "from sklearn.model_selection import train_test_split\n",
    "\n",
    "train, test = train_test_split(df, test_size=0.25)"
   ]
  },
  {
   "cell_type": "code",
   "execution_count": 8,
   "id": "developmental-buffer",
   "metadata": {},
   "outputs": [
    {
     "name": "stdout",
     "output_type": "stream",
     "text": [
      "Training sample:\n",
      "       E (10^5)  pt (10^5)       eta       phi\n",
      "13801   6.38690    4.19026  0.980921 -0.039795\n",
      "372     1.26099    1.21191  0.247977 -2.787570\n",
      "12581   3.24988    3.06465 -0.322002  2.825090\n",
      "2886    5.01544    3.36311 -0.948135 -0.478969\n",
      "10491   2.30555    2.16295 -0.129850 -1.528580\n",
      "\n",
      "\n",
      "Testing sample:\n",
      "       E (10^5)  pt (10^5)       eta       phi\n",
      "22263  5.118790   4.618200 -0.444210  0.741311\n",
      "17793  4.494110   4.345430 -0.225394  0.909009\n",
      "8094   8.181980   0.513850  3.459840  0.582452\n",
      "22511  0.821149   0.788262  0.244616  2.547250\n",
      "14725  5.928010   1.487170 -2.059360 -1.852830\n",
      "\n",
      "\n",
      "The number of entries in the training data: 16995\n",
      "The number of entries in the validation data: 5666\n"
     ]
    }
   ],
   "source": [
    "print('Training sample:')\n",
    "print(train.head())\n",
    "\n",
    "print('\\n')\n",
    "\n",
    "print('Testing sample:')\n",
    "print(test.head())\n",
    "\n",
    "print('\\n')\n",
    "\n",
    "print('The number of entries in the training data:', len(train))\n",
    "print('The number of entries in the validation data:', len(test))"
   ]
  },
  {
   "cell_type": "code",
   "execution_count": 9,
   "id": "laughing-general",
   "metadata": {},
   "outputs": [
    {
     "data": {
      "image/png": "[encoded data removed]",
      "text/plain": [
       "<Figure size 432x288 with 1 Axes>"
      ]
     },
     "metadata": {
      "needs_background": "light"
     },
     "output_type": "display_data"
    },
    {
     "data": {
      "image/png": "[encoded data removed]",
      "text/plain": [
       "<Figure size 432x288 with 1 Axes>"
      ]
     },
     "metadata": {
      "needs_background": "light"
     },
     "output_type": "display_data"
    },
    {
     "data": {
      "image/png": "[encoded data removed]",
      "text/plain": [
       "<Figure size 432x288 with 1 Axes>"
      ]
     },
     "metadata": {
      "needs_background": "light"
     },
     "output_type": "display_data"
    },
    {
     "data": {
      "image/png": "[encoded data removed]",
      "text/plain": [
       "<Figure size 432x288 with 1 Axes>"
      ]
     },
     "metadata": {
      "needs_background": "light"
     },
     "output_type": "display_data"
    }
   ],
   "source": [
    "# Plotting the training data\n",
    "import matplotlib.pyplot as plt\n",
    "\n",
    "branches=[\"E (10^5)\",\"pt (10^5)\",\"eta\",\"phi\"]\n",
    "\n",
    "n_bins = 120\n",
    "\n",
    "for kk in range(0,4):\n",
    "    n_hist_data, bin_edges, _ = plt.hist(train[branches[kk]], label='Input', alpha=1, bins=n_bins)\n",
    "    plt.xlabel(xlabel=branches[kk])\n",
    "    plt.ylabel('No. of events')\n",
    "    plt.show()"
   ]
  },
  {
   "cell_type": "code",
   "execution_count": 10,
   "id": "ready-static",
   "metadata": {},
   "outputs": [],
   "source": [
    "import torch\n",
    "import torch.nn as nn\n",
    "import torch.optim as optim\n",
    "import torch.utils.data\n",
    "from torch.autograd import Variable\n",
    "\n",
    "from torch.utils.data import TensorDataset\n",
    "from torch.utils.data import DataLoader\n",
    "\n",
    "\n",
    "train_x = train\n",
    "test_x = test\n",
    "train_y = train_x \n",
    "test_y = test_x\n",
    "\n",
    "# Constructs a tensor object of the data and wraps them in a TensorDataset object.\n",
    "train_ds = TensorDataset(torch.tensor(train_x.values, dtype=torch.float), torch.tensor(train_y.values, dtype=torch.float))\n",
    "valid_ds = TensorDataset(torch.tensor(test_x.values, dtype=torch.float), torch.tensor(test_y.values, dtype=torch.float))"
   ]
  },
  {
   "cell_type": "code",
   "execution_count": 11,
   "id": "becoming-solution",
   "metadata": {},
   "outputs": [
    {
     "name": "stderr",
     "output_type": "stream",
     "text": [
      "/home/rish/workspace/atlas-eval-task/lib/python3.8/site-packages/torch/cuda/__init__.py:52: UserWarning: CUDA initialization: Found no NVIDIA driver on your system. Please check that you have an NVIDIA GPU and installed a driver from http://www.nvidia.com/Download/index.aspx (Triggered internally at  /pytorch/c10/cuda/CUDAFunctions.cpp:100.)\n",
      "  return torch._C._cuda_getDeviceCount() > 0\n"
     ]
    }
   ],
   "source": [
    "from fastai import learner\n",
    "from fastai.data import core\n",
    "\n",
    "bs = 256\n",
    "\n",
    "# Converts the TensorDataset into a DataLoader object and combines into one DataLoaders object (a basic wrapper\n",
    "# around several DataLoader objects). \n",
    "train_dl = DataLoader(train_ds, batch_size=bs, shuffle=True)\n",
    "valid_dl = DataLoader(valid_ds, batch_size=bs * 2)\n",
    "dls = core.DataLoaders(train_dl, valid_dl)"
   ]
  },
  {
   "cell_type": "code",
   "execution_count": 12,
   "id": "absent-importance",
   "metadata": {},
   "outputs": [
    {
     "data": {
      "text/plain": [
       "AE_3D_200_LeakyReLU(\n",
       "  (en1): Linear(in_features=4, out_features=200, bias=True)\n",
       "  (en2): Linear(in_features=200, out_features=200, bias=True)\n",
       "  (en3): Linear(in_features=200, out_features=20, bias=True)\n",
       "  (en4): Linear(in_features=20, out_features=3, bias=True)\n",
       "  (de1): Linear(in_features=3, out_features=20, bias=True)\n",
       "  (de2): Linear(in_features=20, out_features=200, bias=True)\n",
       "  (de3): Linear(in_features=200, out_features=200, bias=True)\n",
       "  (de4): Linear(in_features=200, out_features=4, bias=True)\n",
       "  (tanh): Tanh()\n",
       ")"
      ]
     },
     "execution_count": 12,
     "metadata": {},
     "output_type": "execute_result"
    }
   ],
   "source": [
    "class AE_3D_200_LeakyReLU(nn.Module):\n",
    "    def __init__(self, n_features=4):\n",
    "        super(AE_3D_200_LeakyReLU, self).__init__()\n",
    "        self.en1 = nn.Linear(n_features, 200)\n",
    "        self.en2 = nn.Linear(200, 200)\n",
    "        self.en3 = nn.Linear(200, 20)\n",
    "        self.en4 = nn.Linear(20, 3)\n",
    "        self.de1 = nn.Linear(3, 20)\n",
    "        self.de2 = nn.Linear(20, 200)\n",
    "        self.de3 = nn.Linear(200, 200)\n",
    "        self.de4 = nn.Linear(200, n_features)\n",
    "        self.tanh = nn.Tanh()\n",
    "\n",
    "    def encode(self, x):\n",
    "        return self.en4(self.tanh(self.en3(self.tanh(self.en2(self.tanh(self.en1(x)))))))\n",
    "\n",
    "    def decode(self, x):\n",
    "        return self.de4(self.tanh(self.de3(self.tanh(self.de2(self.tanh(self.de1(self.tanh(x))))))))\n",
    "\n",
    "    def forward(self, x):\n",
    "        z = self.encode(x)\n",
    "        return self.decode(z)\n",
    "\n",
    "    def describe(self):\n",
    "        return 'in-200-200-20-3-20-200-200-out'\n",
    "\n",
    "model = AE_3D_200_LeakyReLU()\n",
    "model.to('cpu')"
   ]
  },
  {
   "cell_type": "code",
   "execution_count": 13,
   "id": "above-facility",
   "metadata": {},
   "outputs": [],
   "source": [
    "from fastai.metrics import mse\n",
    "\n",
    "loss_func = nn.MSELoss()\n",
    "\n",
    "wd = 1e-4\n",
    "\n",
    "recorder = learner.Recorder()\n",
    "learn = learner.Learner(dls, model=model, wd=wd, loss_func=loss_func, cbs=recorder)"
   ]
  },
  {
   "cell_type": "code",
   "execution_count": 14,
   "id": "portable-villa",
   "metadata": {},
   "outputs": [
    {
     "name": "stdout",
     "output_type": "stream",
     "text": [
      "Learning rate with the minimum loss: 0.003801893815398216\n",
      "Learning rate with the steepest gradient: 1.2022644568787655e-06\n"
     ]
    },
    {
     "data": {
      "image/png": "[encoded data removed]",
      "text/plain": [
       "<Figure size 432x288 with 1 Axes>"
      ]
     },
     "metadata": {
      "needs_background": "light"
     },
     "output_type": "display_data"
    }
   ],
   "source": [
    "from fastai.callback import schedule\n",
    "\n",
    "lr_min, lr_steep = learn.lr_find(end_lr = 100)\n",
    "\n",
    "print('Learning rate with the minimum loss:', lr_min)\n",
    "print('Learning rate with the steepest gradient:', lr_steep)"
   ]
  },
  {
   "cell_type": "code",
   "execution_count": 15,
   "id": "suspected-avenue",
   "metadata": {},
   "outputs": [
    {
     "name": "stdout",
     "output_type": "stream",
     "text": [
      "[0, 9.38254451751709, 6.717716693878174, '00:00']\n",
      "[0, 9.38254451751709, 6.717716693878174, '00:00']\n",
      "[1, 6.013774871826172, 3.7810142040252686, '00:00']\n",
      "[1, 6.013774871826172, 3.7810142040252686, '00:00']\n",
      "[2, 3.5859692096710205, 2.1378917694091797, '00:00']\n",
      "[2, 3.5859692096710205, 2.1378917694091797, '00:00']\n",
      "[3, 2.311152696609497, 1.55892014503479, '00:00']\n",
      "[3, 2.311152696609497, 1.55892014503479, '00:00']\n",
      "[4, 1.7361172437667847, 1.366153597831726, '00:00']\n",
      "[4, 1.7361172437667847, 1.366153597831726, '00:00']\n",
      "[5, 1.4863312244415283, 1.1974104642868042, '00:00']\n",
      "[5, 1.4863312244415283, 1.1974104642868042, '00:00']\n",
      "[6, 1.0633286237716675, 0.7312602996826172, '00:00']\n",
      "[6, 1.0633286237716675, 0.7312602996826172, '00:00']\n",
      "[7, 0.8121619820594788, 0.6128873229026794, '00:00']\n",
      "[7, 0.8121619820594788, 0.6128873229026794, '00:00']\n",
      "[8, 0.5680115818977356, 0.3068895936012268, '00:00']\n",
      "[8, 0.5680115818977356, 0.3068895936012268, '00:00']\n",
      "[9, 0.3142888844013214, 0.16444836556911469, '00:00']\n",
      "[9, 0.3142888844013214, 0.16444836556911469, '00:00']\n",
      "[10, 0.16558177769184113, 0.06769080460071564, '00:00']\n",
      "[10, 0.16558177769184113, 0.06769080460071564, '00:00']\n",
      "[11, 0.11233875155448914, 0.07782787829637527, '00:00']\n",
      "[11, 0.11233875155448914, 0.07782787829637527, '00:00']\n",
      "[12, 0.0768369808793068, 0.10310854762792587, '00:00']\n",
      "[12, 0.0768369808793068, 0.10310854762792587, '00:00']\n",
      "[13, 0.11538689583539963, 0.10858511179685593, '00:00']\n",
      "[13, 0.11538689583539963, 0.10858511179685593, '00:00']\n",
      "[14, 0.05828099325299263, 0.027148474007844925, '00:00']\n",
      "[14, 0.05828099325299263, 0.027148474007844925, '00:00']\n",
      "[15, 0.07081390917301178, 0.0389147512614727, '00:00']\n",
      "[15, 0.07081390917301178, 0.0389147512614727, '00:00']\n",
      "[16, 0.15118584036827087, 0.09795861691236496, '00:00']\n",
      "[16, 0.15118584036827087, 0.09795861691236496, '00:00']\n",
      "[17, 0.06555857509374619, 0.02046896144747734, '00:00']\n",
      "[17, 0.06555857509374619, 0.02046896144747734, '00:00']\n",
      "[18, 0.06166105717420578, 0.06205493211746216, '00:00']\n",
      "[18, 0.06166105717420578, 0.06205493211746216, '00:00']\n",
      "[19, 0.06696108728647232, 0.03739004582166672, '00:00']\n",
      "[19, 0.06696108728647232, 0.03739004582166672, '00:00']\n",
      "[20, 0.06974110752344131, 0.0301075242459774, '00:00']\n",
      "[20, 0.06974110752344131, 0.0301075242459774, '00:00']\n",
      "[21, 0.0645599439740181, 0.021670149639248848, '00:00']\n",
      "[21, 0.0645599439740181, 0.021670149639248848, '00:00']\n",
      "[22, 0.10614240169525146, 0.19902509450912476, '00:00']\n",
      "[22, 0.10614240169525146, 0.19902509450912476, '00:00']\n",
      "[23, 0.06781911104917526, 0.04117772728204727, '00:00']\n",
      "[23, 0.06781911104917526, 0.04117772728204727, '00:00']\n",
      "[24, 0.07610411196947098, 0.031363751739263535, '00:00']\n",
      "[24, 0.07610411196947098, 0.031363751739263535, '00:00']\n",
      "[25, 0.062082767486572266, 0.03773631900548935, '00:00']\n",
      "[25, 0.062082767486572266, 0.03773631900548935, '00:00']\n",
      "[26, 0.07289734482765198, 0.049135029315948486, '00:00']\n",
      "[26, 0.07289734482765198, 0.049135029315948486, '00:00']\n",
      "[27, 0.04970380663871765, 0.029928579926490784, '00:00']\n",
      "[27, 0.04970380663871765, 0.029928579926490784, '00:00']\n",
      "[28, 0.06510227918624878, 0.049717072397470474, '00:00']\n",
      "[28, 0.06510227918624878, 0.049717072397470474, '00:00']\n",
      "[29, 0.04640622437000275, 0.0379713736474514, '00:00']\n",
      "[29, 0.04640622437000275, 0.0379713736474514, '00:00']\n",
      "[30, 0.05880584195256233, 0.02328147552907467, '00:00']\n",
      "[30, 0.05880584195256233, 0.02328147552907467, '00:00']\n",
      "[31, 0.046542711555957794, 0.071733757853508, '00:00']\n",
      "[31, 0.046542711555957794, 0.071733757853508, '00:00']\n",
      "[32, 0.06430138647556305, 0.028025232255458832, '00:00']\n",
      "[32, 0.06430138647556305, 0.028025232255458832, '00:00']\n",
      "[33, 0.04805691912770271, 0.036501724272966385, '00:00']\n",
      "[33, 0.04805691912770271, 0.036501724272966385, '00:00']\n",
      "[34, 0.04368129372596741, 0.06976640224456787, '00:00']\n",
      "[34, 0.04368129372596741, 0.06976640224456787, '00:00']\n",
      "[35, 0.0586768314242363, 0.2168712317943573, '00:00']\n",
      "[35, 0.0586768314242363, 0.2168712317943573, '00:00']\n",
      "[36, 0.05976470932364464, 0.029830897226929665, '00:00']\n",
      "[36, 0.05976470932364464, 0.029830897226929665, '00:00']\n",
      "[37, 0.039413727819919586, 0.16046728193759918, '00:00']\n",
      "[37, 0.039413727819919586, 0.16046728193759918, '00:00']\n",
      "[38, 0.04489462450146675, 0.04579044133424759, '00:00']\n",
      "[38, 0.04489462450146675, 0.04579044133424759, '00:00']\n",
      "[39, 0.03531031683087349, 0.0160007793456316, '00:00']\n",
      "[39, 0.03531031683087349, 0.0160007793456316, '00:00']\n",
      "[40, 0.03219441697001457, 0.03651045635342598, '00:00']\n",
      "[40, 0.03219441697001457, 0.03651045635342598, '00:00']\n",
      "[41, 0.031894367188215256, 0.020554568618535995, '00:00']\n",
      "[41, 0.031894367188215256, 0.020554568618535995, '00:00']\n",
      "[42, 0.027869893237948418, 0.03604896366596222, '00:00']\n",
      "[42, 0.027869893237948418, 0.03604896366596222, '00:00']\n",
      "[43, 0.03407498449087143, 0.041674576699733734, '00:00']\n",
      "[43, 0.03407498449087143, 0.041674576699733734, '00:00']\n",
      "[44, 0.042592909187078476, 0.026087146252393723, '00:00']\n",
      "[44, 0.042592909187078476, 0.026087146252393723, '00:00']\n",
      "[45, 0.024745097383856773, 0.012098148465156555, '00:00']\n",
      "[45, 0.024745097383856773, 0.012098148465156555, '00:00']\n",
      "[46, 0.020223215222358704, 0.014431585557758808, '00:00']\n",
      "[46, 0.020223215222358704, 0.014431585557758808, '00:00']\n",
      "[47, 0.021981744095683098, 0.02017814852297306, '00:00']\n",
      "[47, 0.021981744095683098, 0.02017814852297306, '00:00']\n",
      "[48, 0.031258415430784225, 0.03006485104560852, '00:00']\n",
      "[48, 0.031258415430784225, 0.03006485104560852, '00:00']\n",
      "[49, 0.03001537173986435, 0.06871246546506882, '00:00']\n",
      "[49, 0.03001537173986435, 0.06871246546506882, '00:00']\n",
      "[50, 0.028662117198109627, 0.03773743286728859, '00:00']\n",
      "[50, 0.028662117198109627, 0.03773743286728859, '00:00']\n",
      "[51, 0.02058284543454647, 0.010324596427381039, '00:00']\n",
      "[51, 0.02058284543454647, 0.010324596427381039, '00:00']\n",
      "[52, 0.021231478080153465, 0.010365024209022522, '00:00']\n",
      "[52, 0.021231478080153465, 0.010365024209022522, '00:00']\n",
      "[53, 0.018135972321033478, 0.03420625999569893, '00:00']\n",
      "[53, 0.018135972321033478, 0.03420625999569893, '00:00']\n",
      "[54, 0.013978932984173298, 0.008304910734295845, '00:00']\n",
      "[54, 0.013978932984173298, 0.008304910734295845, '00:00']\n",
      "[55, 0.01805085316300392, 0.009656759910285473, '00:00']\n",
      "[55, 0.01805085316300392, 0.009656759910285473, '00:00']\n",
      "[56, 0.015823902562260628, 0.015164850279688835, '00:00']\n",
      "[56, 0.015823902562260628, 0.015164850279688835, '00:00']\n",
      "[57, 0.013221891596913338, 0.010078761726617813, '00:00']\n",
      "[57, 0.013221891596913338, 0.010078761726617813, '00:00']\n",
      "[58, 0.011016960255801678, 0.00661869440227747, '00:00']\n",
      "[58, 0.011016960255801678, 0.00661869440227747, '00:00']\n",
      "[59, 0.008620657958090305, 0.00476612476631999, '00:00']\n",
      "[59, 0.008620657958090305, 0.00476612476631999, '00:00']\n",
      "[60, 0.00819593109190464, 0.008678841404616833, '00:00']\n",
      "[60, 0.00819593109190464, 0.008678841404616833, '00:00']\n",
      "[61, 0.011537200771272182, 0.008912377990782261, '00:00']\n",
      "[61, 0.011537200771272182, 0.008912377990782261, '00:00']\n",
      "[62, 0.007077440153807402, 0.00571775808930397, '00:00']\n",
      "[62, 0.007077440153807402, 0.00571775808930397, '00:00']\n",
      "[63, 0.005632429849356413, 0.00586656341329217, '00:00']\n",
      "[63, 0.005632429849356413, 0.00586656341329217, '00:00']\n",
      "[64, 0.009807166643440723, 0.020927835255861282, '00:00']\n",
      "[64, 0.009807166643440723, 0.020927835255861282, '00:00']\n",
      "[65, 0.008249277248978615, 0.0036410025786608458, '00:00']\n",
      "[65, 0.008249277248978615, 0.0036410025786608458, '00:00']\n",
      "[66, 0.0044621312990784645, 0.0032961529213935137, '00:00']\n",
      "[66, 0.0044621312990784645, 0.0032961529213935137, '00:00']\n",
      "[67, 0.007076980546116829, 0.00865505076944828, '00:00']\n",
      "[67, 0.007076980546116829, 0.00865505076944828, '00:00']\n",
      "[68, 0.004996537696570158, 0.002710887463763356, '00:00']\n",
      "[68, 0.004996537696570158, 0.002710887463763356, '00:00']\n",
      "[69, 0.003390729194507003, 0.0042971051298081875, '00:00']\n",
      "[69, 0.003390729194507003, 0.0042971051298081875, '00:00']\n",
      "[70, 0.003330682870000601, 0.002470039064064622, '00:00']\n",
      "[70, 0.003330682870000601, 0.002470039064064622, '00:00']\n",
      "[71, 0.003973854705691338, 0.005904356949031353, '00:00']\n",
      "[71, 0.003973854705691338, 0.005904356949031353, '00:00']\n",
      "[72, 0.003026010235771537, 0.0020607104524970055, '00:00']\n",
      "[72, 0.003026010235771537, 0.0020607104524970055, '00:00']\n"
     ]
    },
    {
     "name": "stdout",
     "output_type": "stream",
     "text": [
      "[73, 0.00280993920750916, 0.0020484367851167917, '00:00']\n",
      "[73, 0.00280993920750916, 0.0020484367851167917, '00:00']\n",
      "[74, 0.003058916889131069, 0.0034305499866604805, '00:00']\n",
      "[74, 0.003058916889131069, 0.0034305499866604805, '00:00']\n",
      "[75, 0.0033763607498258352, 0.004819744266569614, '00:00']\n",
      "[75, 0.0033763607498258352, 0.004819744266569614, '00:00']\n",
      "[76, 0.00274786539375782, 0.0024719981011003256, '00:00']\n",
      "[76, 0.00274786539375782, 0.0024719981011003256, '00:00']\n",
      "[77, 0.001734033110551536, 0.0017349760746583343, '00:00']\n",
      "[77, 0.001734033110551536, 0.0017349760746583343, '00:00']\n",
      "[78, 0.0013884676154702902, 0.001803801627829671, '00:00']\n",
      "[78, 0.0013884676154702902, 0.001803801627829671, '00:00']\n",
      "[79, 0.0012474694522097707, 0.0018127751536667347, '00:00']\n",
      "[79, 0.0012474694522097707, 0.0018127751536667347, '00:00']\n",
      "[80, 0.0012662390945479274, 0.0014628393109887838, '00:00']\n",
      "[80, 0.0012662390945479274, 0.0014628393109887838, '00:00']\n",
      "[81, 0.0010414165444672108, 0.0017335047014057636, '00:00']\n",
      "[81, 0.0010414165444672108, 0.0017335047014057636, '00:00']\n",
      "[82, 0.0012871124781668186, 0.0013061549980193377, '00:00']\n",
      "[82, 0.0012871124781668186, 0.0013061549980193377, '00:00']\n",
      "[83, 0.0009540903847664595, 0.001230282592587173, '00:00']\n",
      "[83, 0.0009540903847664595, 0.001230282592587173, '00:00']\n",
      "[84, 0.001019171322695911, 0.0014026705175638199, '00:00']\n",
      "[84, 0.001019171322695911, 0.0014026705175638199, '00:00']\n",
      "[85, 0.0007541771628893912, 0.001020596013404429, '00:00']\n",
      "[85, 0.0007541771628893912, 0.001020596013404429, '00:00']\n",
      "[86, 0.0006472920649684966, 0.0011099233524873853, '00:00']\n",
      "[86, 0.0006472920649684966, 0.0011099233524873853, '00:00']\n",
      "[87, 0.0006130924448370934, 0.0010258516995236278, '00:00']\n",
      "[87, 0.0006130924448370934, 0.0010258516995236278, '00:00']\n",
      "[88, 0.00055966607760638, 0.0010339823784306645, '00:00']\n",
      "[88, 0.00055966607760638, 0.0010339823784306645, '00:00']\n",
      "[89, 0.0005011904868297279, 0.0009983088821172714, '00:00']\n",
      "[89, 0.0005011904868297279, 0.0009983088821172714, '00:00']\n",
      "[90, 0.0004891389398835599, 0.0009665321558713913, '00:00']\n",
      "[90, 0.0004891389398835599, 0.0009665321558713913, '00:00']\n",
      "[91, 0.0004751140368171036, 0.0009156032465398312, '00:00']\n",
      "[91, 0.0004751140368171036, 0.0009156032465398312, '00:00']\n",
      "[92, 0.0004262227739673108, 0.0009606197709217668, '00:00']\n",
      "[92, 0.0004262227739673108, 0.0009606197709217668, '00:00']\n",
      "[93, 0.00041539326775819063, 0.0009047097992151976, '00:00']\n",
      "[93, 0.00041539326775819063, 0.0009047097992151976, '00:00']\n",
      "[94, 0.00039228133391588926, 0.0009185499511659145, '00:00']\n",
      "[94, 0.00039228133391588926, 0.0009185499511659145, '00:00']\n",
      "[95, 0.0003841154684778303, 0.0008913121419027448, '00:00']\n",
      "[95, 0.0003841154684778303, 0.0008913121419027448, '00:00']\n",
      "[96, 0.00036445693694986403, 0.0008648253860883415, '00:00']\n",
      "[96, 0.00036445693694986403, 0.0008648253860883415, '00:00']\n",
      "[97, 0.00035936140920966864, 0.0008719146717339754, '00:00']\n",
      "[97, 0.00035936140920966864, 0.0008719146717339754, '00:00']\n",
      "[98, 0.0003670871374197304, 0.000866547750774771, '00:00']\n",
      "[98, 0.0003670871374197304, 0.000866547750774771, '00:00']\n",
      "[99, 0.00037596788024529815, 0.000867902475874871, '00:00']\n",
      "[99, 0.00037596788024529815, 0.000867902475874871, '00:00']\n",
      "Training took 61.866494216999854 seconds\n"
     ]
    }
   ],
   "source": [
    "# Using lr_min as learning rate\n",
    "import time\n",
    "\n",
    "start = time.perf_counter() # Starts timer\n",
    "learn.fit_one_cycle(100, lr_min)\n",
    "end = time.perf_counter() # Ends timer\n",
    "delta_t = end - start\n",
    "print('Training took', delta_t, 'seconds')"
   ]
  },
  {
   "cell_type": "code",
   "execution_count": 16,
   "id": "ultimate-peeing",
   "metadata": {},
   "outputs": [
    {
     "data": {
      "image/png": "[encoded data removed]",
      "text/plain": [
       "<Figure size 432x288 with 1 Axes>"
      ]
     },
     "metadata": {
      "needs_background": "light"
     },
     "output_type": "display_data"
    }
   ],
   "source": [
    "recorder.plot_loss()"
   ]
  },
  {
   "cell_type": "code",
   "execution_count": 17,
   "id": "hollow-vietnamese",
   "metadata": {},
   "outputs": [
    {
     "data": {
      "text/plain": [
       "(#1) [0.000867902475874871]"
      ]
     },
     "execution_count": 17,
     "metadata": {},
     "output_type": "execute_result"
    }
   ],
   "source": [
    "learn.validate()"
   ]
  },
  {
   "cell_type": "code",
   "execution_count": 18,
   "id": "powerful-silicon",
   "metadata": {},
   "outputs": [],
   "source": [
    "import os\n",
    "save_dir = \"plotOutput\"\n",
    "if not os.path.exists(save_dir):\n",
    "    os.makedirs(save_dir)"
   ]
  },
  {
   "cell_type": "code",
   "execution_count": 20,
   "id": "sticky-omega",
   "metadata": {},
   "outputs": [
    {
     "data": {
      "image/png": "[encoded data removed]",
      "text/plain": [
       "<Figure size 432x288 with 1 Axes>"
      ]
     },
     "metadata": {
      "needs_background": "light"
     },
     "output_type": "display_data"
    },
    {
     "data": {
      "image/png": "[encoded data removed]",
      "text/plain": [
       "<Figure size 432x288 with 1 Axes>"
      ]
     },
     "metadata": {
      "needs_background": "light"
     },
     "output_type": "display_data"
    },
    {
     "data": {
      "image/png": "[encoded data removed]",
      "text/plain": [
       "<Figure size 432x288 with 1 Axes>"
      ]
     },
     "metadata": {
      "needs_background": "light"
     },
     "output_type": "display_data"
    },
    {
     "data": {
      "image/png": "[encoded data removed]",
      "text/plain": [
       "<Figure size 432x288 with 1 Axes>"
      ]
     },
     "metadata": {
      "needs_background": "light"
     },
     "output_type": "display_data"
    }
   ],
   "source": [
    "import numpy as np\n",
    "\n",
    "plt.close('all')\n",
    "line_style = ['--', '-']\n",
    "colors = ['orange', 'c']\n",
    "markers = ['*', 's']\n",
    "\n",
    "model.to('cpu')\n",
    "\n",
    "save = True\n",
    "\n",
    "# Histograms\n",
    "idxs = (0, 100000)  # Choose events to compare\n",
    "data = torch.tensor(test[idxs[0]:idxs[1]].values, dtype=torch.float)\n",
    "pred = model(data)\n",
    "pred = pred.detach().numpy()\n",
    "data = data.detach().numpy()\n",
    "\n",
    "data_df = pd.DataFrame(data, columns=test.columns)\n",
    "pred_df = pd.DataFrame(pred, columns=test.columns)   \n",
    "    \n",
    "alph = 0.8\n",
    "n_bins = 120\n",
    "for kk in np.arange(4):\n",
    "    plt.figure()\n",
    "    n_hist_data, bin_edges, _ = plt.hist(data[:, kk], color=colors[1], label='Input', alpha=1, bins=n_bins)\n",
    "    n_hist_pred, _, _ = plt.hist(pred[:, kk], color=colors[0], label='Output', alpha=alph, bins=bin_edges)\n",
    "    plt.suptitle(test.columns[kk])\n",
    "    plt.xlabel(test.columns[kk])\n",
    "    plt.ylabel('Number of events')\n",
    "    # ms.sciy()\n",
    "    plt.yscale('log')\n",
    "    if save:\n",
    "        plt.savefig(os.path.join(save_dir,test.columns[kk]+'.png'))\n",
    "    plt.legend()\n",
    "\n"
   ]
  }
 ],
 "metadata": {
  "kernelspec": {
   "display_name": "Python 3",
   "language": "python",
   "name": "python3"
  },
  "language_info": {
   "codemirror_mode": {
    "name": "ipython",
    "version": 3
   },
   "file_extension": ".py",
   "mimetype": "text/x-python",
   "name": "python",
   "nbconvert_exporter": "python",
   "pygments_lexer": "ipython3",
   "version": "3.8.5"
  }
 },
 "nbformat": 4,
 "nbformat_minor": 5
}
